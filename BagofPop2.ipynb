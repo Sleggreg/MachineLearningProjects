{
 "cells": [
  {
   "cell_type": "code",
   "execution_count": 34,
   "metadata": {
    "collapsed": true
   },
   "outputs": [],
   "source": [
    "#Doing Bags of Popcorn completely from scratch to think through everything\n",
    "#Will use train test split on the given training data to see immediate results\n",
    "\n",
    "import pandas as pd"
   ]
  },
  {
   "cell_type": "code",
   "execution_count": 35,
   "metadata": {
    "collapsed": false
   },
   "outputs": [
    {
     "data": {
      "text/html": [
       "<div>\n",
       "<table border=\"1\" class=\"dataframe\">\n",
       "  <thead>\n",
       "    <tr style=\"text-align: right;\">\n",
       "      <th></th>\n",
       "      <th>id</th>\n",
       "      <th>sentiment</th>\n",
       "      <th>review</th>\n",
       "    </tr>\n",
       "  </thead>\n",
       "  <tbody>\n",
       "    <tr>\n",
       "      <th>0</th>\n",
       "      <td>5814_8</td>\n",
       "      <td>1</td>\n",
       "      <td>With all this stuff going down at the moment w...</td>\n",
       "    </tr>\n",
       "    <tr>\n",
       "      <th>1</th>\n",
       "      <td>2381_9</td>\n",
       "      <td>1</td>\n",
       "      <td>\\The Classic War of the Worlds\\\" by Timothy Hi...</td>\n",
       "    </tr>\n",
       "    <tr>\n",
       "      <th>2</th>\n",
       "      <td>7759_3</td>\n",
       "      <td>0</td>\n",
       "      <td>The film starts with a manager (Nicholas Bell)...</td>\n",
       "    </tr>\n",
       "    <tr>\n",
       "      <th>3</th>\n",
       "      <td>3630_4</td>\n",
       "      <td>0</td>\n",
       "      <td>It must be assumed that those who praised this...</td>\n",
       "    </tr>\n",
       "    <tr>\n",
       "      <th>4</th>\n",
       "      <td>9495_8</td>\n",
       "      <td>1</td>\n",
       "      <td>Superbly trashy and wondrously unpretentious 8...</td>\n",
       "    </tr>\n",
       "  </tbody>\n",
       "</table>\n",
       "</div>"
      ],
      "text/plain": [
       "       id  sentiment                                             review\n",
       "0  5814_8          1  With all this stuff going down at the moment w...\n",
       "1  2381_9          1  \\The Classic War of the Worlds\\\" by Timothy Hi...\n",
       "2  7759_3          0  The film starts with a manager (Nicholas Bell)...\n",
       "3  3630_4          0  It must be assumed that those who praised this...\n",
       "4  9495_8          1  Superbly trashy and wondrously unpretentious 8..."
      ]
     },
     "execution_count": 35,
     "metadata": {},
     "output_type": "execute_result"
    }
   ],
   "source": [
    "dataset = pd.read_csv(\"BOPlabeledTrainData.tsv\", sep = '\\t')\n",
    "dataset.head()"
   ]
  },
  {
   "cell_type": "code",
   "execution_count": 36,
   "metadata": {
    "collapsed": false
   },
   "outputs": [
    {
     "data": {
      "text/html": [
       "<div>\n",
       "<table border=\"1\" class=\"dataframe\">\n",
       "  <thead>\n",
       "    <tr style=\"text-align: right;\">\n",
       "      <th></th>\n",
       "      <th>sentiment</th>\n",
       "      <th>review</th>\n",
       "    </tr>\n",
       "  </thead>\n",
       "  <tbody>\n",
       "    <tr>\n",
       "      <th>0</th>\n",
       "      <td>1</td>\n",
       "      <td>With all this stuff going down at the moment w...</td>\n",
       "    </tr>\n",
       "    <tr>\n",
       "      <th>1</th>\n",
       "      <td>1</td>\n",
       "      <td>\\The Classic War of the Worlds\\\" by Timothy Hi...</td>\n",
       "    </tr>\n",
       "    <tr>\n",
       "      <th>2</th>\n",
       "      <td>0</td>\n",
       "      <td>The film starts with a manager (Nicholas Bell)...</td>\n",
       "    </tr>\n",
       "    <tr>\n",
       "      <th>3</th>\n",
       "      <td>0</td>\n",
       "      <td>It must be assumed that those who praised this...</td>\n",
       "    </tr>\n",
       "    <tr>\n",
       "      <th>4</th>\n",
       "      <td>1</td>\n",
       "      <td>Superbly trashy and wondrously unpretentious 8...</td>\n",
       "    </tr>\n",
       "  </tbody>\n",
       "</table>\n",
       "</div>"
      ],
      "text/plain": [
       "   sentiment                                             review\n",
       "0          1  With all this stuff going down at the moment w...\n",
       "1          1  \\The Classic War of the Worlds\\\" by Timothy Hi...\n",
       "2          0  The film starts with a manager (Nicholas Bell)...\n",
       "3          0  It must be assumed that those who praised this...\n",
       "4          1  Superbly trashy and wondrously unpretentious 8..."
      ]
     },
     "execution_count": 36,
     "metadata": {},
     "output_type": "execute_result"
    }
   ],
   "source": [
    "dataset = dataset.drop('id', 1)\n",
    "dataset.head()"
   ]
  },
  {
   "cell_type": "code",
   "execution_count": 37,
   "metadata": {
    "collapsed": false
   },
   "outputs": [
    {
     "data": {
      "text/plain": [
       "'\\\\Soylent Green\\\\\" is one of the best and most disturbing science fiction movies of the 70\\'s and still very persuasive even by today\\'s standards. Although flawed and a little dated, the apocalyptic touch and the environmental premise (typical for that time) still feel very unsettling and thought-provoking. This film\\'s quality-level surpasses the majority of contemporary SF flicks because of its strong cast and some intense sequences that I personally consider classic. The New York of 2022 is a depressing place to be alive, with over-population, unemployment, an unhealthy climate and the total scarcity of every vital food product. The only form of food available is synthetic and distributed by the Soylent company. Charlton Heston (in a great shape) plays a cop investigating the murder of one of Soylent\\'s most eminent executives and he stumbles upon scandals and dark secrets... The script is a little over-sentimental at times and the climax doesn\\'t really come as a big surprise, still the atmosphere is very tense and uncanny. The riot-sequence is truly grueling and easily one of the most macabre moments in 70\\'s cinema. Edward G. Robinson is ultimately impressive in his last role and there\\'s a great (but too modest) supportive role for Joseph Cotton (\\\\\"Baron Blood\\\\\", \\\\\"The Abominable Dr. Phibes\\\\\"). THIS is Science-Fiction in my book: a nightmarish and inevitable fade for humanity! No fancy space-ships with hairy monsters attacking our planet.\"'"
      ]
     },
     "execution_count": 37,
     "metadata": {},
     "output_type": "execute_result"
    }
   ],
   "source": [
    "#Check out one example\n",
    "sample = dataset['review'][20]\n",
    "sample"
   ]
  },
  {
   "cell_type": "code",
   "execution_count": 38,
   "metadata": {
    "collapsed": false
   },
   "outputs": [
    {
     "data": {
      "text/plain": [
       "<html><body><p>\\\\Soylent Green\\\\\" is one of the best and most disturbing science fiction movies of the 70's and still very persuasive even by today's standards. Although flawed and a little dated, the apocalyptic touch and the environmental premise (typical for that time) still feel very unsettling and thought-provoking. This film's quality-level surpasses the majority of contemporary SF flicks because of its strong cast and some intense sequences that I personally consider classic. The New York of 2022 is a depressing place to be alive, with over-population, unemployment, an unhealthy climate and the total scarcity of every vital food product. The only form of food available is synthetic and distributed by the Soylent company. Charlton Heston (in a great shape) plays a cop investigating the murder of one of Soylent's most eminent executives and he stumbles upon scandals and dark secrets... The script is a little over-sentimental at times and the climax doesn't really come as a big surprise, still the atmosphere is very tense and uncanny. The riot-sequence is truly grueling and easily one of the most macabre moments in 70's cinema. Edward G. Robinson is ultimately impressive in his last role and there's a great (but too modest) supportive role for Joseph Cotton (\\\\\"Baron Blood\\\\\", \\\\\"The Abominable Dr. Phibes\\\\\"). THIS is Science-Fiction in my book: a nightmarish and inevitable fade for humanity! No fancy space-ships with hairy monsters attacking our planet.\"</p></body></html>"
      ]
     },
     "execution_count": 38,
     "metadata": {},
     "output_type": "execute_result"
    }
   ],
   "source": [
    "#need to extract HTML, puntuation, and stopwords. Maybe make all lowercase too?\n",
    "# First HTML, use Beautiful Soup\n",
    "from bs4 import BeautifulSoup\n",
    "soup = BeautifulSoup(sample)\n",
    "soup"
   ]
  },
  {
   "cell_type": "code",
   "execution_count": 39,
   "metadata": {
    "collapsed": false
   },
   "outputs": [
    {
     "data": {
      "text/plain": [
       "u'\\\\Soylent Green\\\\\" is one of the best and most disturbing science fiction movies of the 70\\'s and still very persuasive even by today\\'s standards. Although flawed and a little dated, the apocalyptic touch and the environmental premise (typical for that time) still feel very unsettling and thought-provoking. This film\\'s quality-level surpasses the majority of contemporary SF flicks because of its strong cast and some intense sequences that I personally consider classic. The New York of 2022 is a depressing place to be alive, with over-population, unemployment, an unhealthy climate and the total scarcity of every vital food product. The only form of food available is synthetic and distributed by the Soylent company. Charlton Heston (in a great shape) plays a cop investigating the murder of one of Soylent\\'s most eminent executives and he stumbles upon scandals and dark secrets... The script is a little over-sentimental at times and the climax doesn\\'t really come as a big surprise, still the atmosphere is very tense and uncanny. The riot-sequence is truly grueling and easily one of the most macabre moments in 70\\'s cinema. Edward G. Robinson is ultimately impressive in his last role and there\\'s a great (but too modest) supportive role for Joseph Cotton (\\\\\"Baron Blood\\\\\", \\\\\"The Abominable Dr. Phibes\\\\\"). THIS is Science-Fiction in my book: a nightmarish and inevitable fade for humanity! No fancy space-ships with hairy monsters attacking our planet.\"'"
      ]
     },
     "execution_count": 39,
     "metadata": {},
     "output_type": "execute_result"
    }
   ],
   "source": [
    "no_html_ex = soup.get_text() #Seems to work\n",
    "no_html_ex"
   ]
  },
  {
   "cell_type": "code",
   "execution_count": 40,
   "metadata": {
    "collapsed": false
   },
   "outputs": [],
   "source": [
    "#Lets get rid of punctuation\n",
    "import string\n",
    "string.punctuation\n",
    "\n",
    "#Import Regular Expression\n",
    "import re"
   ]
  },
  {
   "cell_type": "code",
   "execution_count": 41,
   "metadata": {
    "collapsed": false
   },
   "outputs": [],
   "source": [
    "no_punc_ex = [word for word in no_html_ex if word not in string.punctuation]\n",
    "#need to join letters back together\n",
    "no_punc_ex= ''.join(no_punc_ex) #Now it is done\n"
   ]
  },
  {
   "cell_type": "code",
   "execution_count": 42,
   "metadata": {
    "collapsed": false
   },
   "outputs": [
    {
     "name": "stdout",
     "output_type": "stream",
     "text": [
      "soylent green is one of the best and most disturbing science fiction movies of the 70s and still very persuasive even by todays standards although flawed and a little dated the apocalyptic touch and the environmental premise typical for that time still feel very unsettling and thoughtprovoking this films qualitylevel surpasses the majority of contemporary sf flicks because of its strong cast and some intense sequences that i personally consider classic the new york of 2022 is a depressing place to be alive with overpopulation unemployment an unhealthy climate and the total scarcity of every vital food product the only form of food available is synthetic and distributed by the soylent company charlton heston in a great shape plays a cop investigating the murder of one of soylents most eminent executives and he stumbles upon scandals and dark secrets the script is a little oversentimental at times and the climax doesnt really come as a big surprise still the atmosphere is very tense and uncanny the riotsequence is truly grueling and easily one of the most macabre moments in 70s cinema edward g robinson is ultimately impressive in his last role and theres a great but too modest supportive role for joseph cotton baron blood the abominable dr phibes this is sciencefiction in my book a nightmarish and inevitable fade for humanity no fancy spaceships with hairy monsters attacking our planet\n"
     ]
    }
   ],
   "source": [
    "#Lets try and now remove capitilization\n",
    "no_punc_ex = no_punc_ex.lower()\n",
    "print no_punc_ex"
   ]
  },
  {
   "cell_type": "code",
   "execution_count": 43,
   "metadata": {
    "collapsed": true
   },
   "outputs": [],
   "source": [
    "#Time to remove stopwords\n",
    "from nltk.corpus import stopwords"
   ]
  },
  {
   "cell_type": "code",
   "execution_count": 44,
   "metadata": {
    "collapsed": false
   },
   "outputs": [
    {
     "data": {
      "text/plain": [
       "[u'soylent', u'green', u'is', u'one', u'of']"
      ]
     },
     "execution_count": 44,
     "metadata": {},
     "output_type": "execute_result"
    }
   ],
   "source": [
    "no_punc_ex.split()[:5] #Returns words seperated by spaces...you need this to proceed"
   ]
  },
  {
   "cell_type": "code",
   "execution_count": 45,
   "metadata": {
    "collapsed": false
   },
   "outputs": [
    {
     "data": {
      "text/plain": [
       "[u'soylent',\n",
       " u'green',\n",
       " u'one',\n",
       " u'best',\n",
       " u'disturbing',\n",
       " u'science',\n",
       " u'fiction',\n",
       " u'movies',\n",
       " u'70s',\n",
       " u'still']"
      ]
     },
     "execution_count": 45,
     "metadata": {},
     "output_type": "execute_result"
    }
   ],
   "source": [
    "no_stop_ex = [word for word in no_punc_ex.split() if word not in stopwords.words('english')]\n",
    "#no_stop_ex= ' '.join(no_stop_ex)\n",
    "no_stop_ex[:10] #Returns as a list of words. We like this"
   ]
  },
  {
   "cell_type": "code",
   "execution_count": 46,
   "metadata": {
    "collapsed": true
   },
   "outputs": [],
   "source": [
    "#Lets create a function that does all of this\n",
    "#1. take out HTML\n",
    "#2. get rid of punctuation\n",
    "#3. join letters back together\n",
    "#4. lowercase\n",
    "#5. remove stopwords\n",
    "\n",
    "def text_process(raw_review):\n",
    "    html_gone = BeautifulSoup(raw_review).get_text()\n",
    "    #punc_gone = [word for word in html_gone.lower() if word not in string.punctuation]\n",
    "    punc_gone = re.sub(\"[^a-zA-Z]\", \" \", html_gone.lower()) #takes out everything except letters\n",
    "    punc_gone= ''.join(punc_gone)\n",
    "    return [word for word in punc_gone.split() if word not in stopwords.words('english')]\n",
    "    #return (\" \".join(clean_text))\n"
   ]
  },
  {
   "cell_type": "code",
   "execution_count": 47,
   "metadata": {
    "collapsed": false
   },
   "outputs": [
    {
     "data": {
      "text/plain": [
       "\"The film starts with a manager (Nicholas Bell) giving welcome investors (Robert Carradine) to Primal Park . A secret project mutating a primal animal using fossilized DNA, like \\xc2\\xa8Jurassik Park\\xc2\\xa8, and some scientists resurrect one of nature's most fearsome predators, the Sabretooth tiger or Smilodon . Scientific ambition turns deadly, however, and when the high voltage fence is opened the creature escape and begins savagely stalking its prey - the human visitors , tourists and scientific.Meanwhile some youngsters enter in the restricted area of the security center and are attacked by a pack of large pre-historical animals which are deadlier and bigger . In addition , a security agent (Stacy Haiduk) and her mate (Brian Wimmer) fight hardly against the carnivorous Smilodons. The Sabretooths, themselves , of course, are the real star stars and they are astounding terrifyingly though not convincing. The giant animals savagely are stalking its prey and the group run afoul and fight against one nature's most fearsome predators. Furthermore a third Sabretooth more dangerous and slow stalks its victims.<br /><br />The movie delivers the goods with lots of blood and gore as beheading, hair-raising chills,full of scares when the Sabretooths appear with mediocre special effects.The story provides exciting and stirring entertainment but it results to be quite boring .The giant animals are majority made by computer generator and seem totally lousy .Middling performances though the players reacting appropriately to becoming food.Actors give vigorously physical performances dodging the beasts ,running,bound and leaps or dangling over walls . And it packs a ridiculous final deadly scene. No for small kids by realistic,gory and violent attack scenes . Other films about Sabretooths or Smilodon are the following : \\xc2\\xa8Sabretooth(2002)\\xc2\\xa8by James R Hickox with Vanessa Angel, David Keith and John Rhys Davies and the much better \\xc2\\xa810.000 BC(2006)\\xc2\\xa8 by Roland Emmerich with with Steven Strait, Cliff Curtis and Camilla Belle. This motion picture filled with bloody moments is badly directed by George Miller and with no originality because takes too many elements from previous films. Miller is an Australian director usually working for television (Tidal wave, Journey to the center of the earth, and many others) and occasionally for cinema ( The man from Snowy river, Zeus and Roxanne,Robinson Crusoe ). Rating : Below average, bottom of barrel.\""
      ]
     },
     "execution_count": 47,
     "metadata": {},
     "output_type": "execute_result"
    }
   ],
   "source": [
    "test = dataset['review'][2]\n",
    "test"
   ]
  },
  {
   "cell_type": "code",
   "execution_count": 48,
   "metadata": {
    "collapsed": false
   },
   "outputs": [
    {
     "data": {
      "text/plain": [
       "[u'film',\n",
       " u'starts',\n",
       " u'manager',\n",
       " u'nicholas',\n",
       " u'bell',\n",
       " u'giving',\n",
       " u'welcome',\n",
       " u'investors',\n",
       " u'robert',\n",
       " u'carradine',\n",
       " u'primal',\n",
       " u'park',\n",
       " u'secret',\n",
       " u'project',\n",
       " u'mutating',\n",
       " u'primal',\n",
       " u'animal',\n",
       " u'using',\n",
       " u'fossilized',\n",
       " u'dna',\n",
       " u'like',\n",
       " u'jurassik',\n",
       " u'park',\n",
       " u'scientists',\n",
       " u'resurrect',\n",
       " u'one',\n",
       " u'nature',\n",
       " u'fearsome',\n",
       " u'predators',\n",
       " u'sabretooth',\n",
       " u'tiger',\n",
       " u'smilodon',\n",
       " u'scientific',\n",
       " u'ambition',\n",
       " u'turns',\n",
       " u'deadly',\n",
       " u'however',\n",
       " u'high',\n",
       " u'voltage',\n",
       " u'fence',\n",
       " u'opened',\n",
       " u'creature',\n",
       " u'escape',\n",
       " u'begins',\n",
       " u'savagely',\n",
       " u'stalking',\n",
       " u'prey',\n",
       " u'human',\n",
       " u'visitors',\n",
       " u'tourists',\n",
       " u'scientific',\n",
       " u'meanwhile',\n",
       " u'youngsters',\n",
       " u'enter',\n",
       " u'restricted',\n",
       " u'area',\n",
       " u'security',\n",
       " u'center',\n",
       " u'attacked',\n",
       " u'pack',\n",
       " u'large',\n",
       " u'pre',\n",
       " u'historical',\n",
       " u'animals',\n",
       " u'deadlier',\n",
       " u'bigger',\n",
       " u'addition',\n",
       " u'security',\n",
       " u'agent',\n",
       " u'stacy',\n",
       " u'haiduk',\n",
       " u'mate',\n",
       " u'brian',\n",
       " u'wimmer',\n",
       " u'fight',\n",
       " u'hardly',\n",
       " u'carnivorous',\n",
       " u'smilodons',\n",
       " u'sabretooths',\n",
       " u'course',\n",
       " u'real',\n",
       " u'star',\n",
       " u'stars',\n",
       " u'astounding',\n",
       " u'terrifyingly',\n",
       " u'though',\n",
       " u'convincing',\n",
       " u'giant',\n",
       " u'animals',\n",
       " u'savagely',\n",
       " u'stalking',\n",
       " u'prey',\n",
       " u'group',\n",
       " u'run',\n",
       " u'afoul',\n",
       " u'fight',\n",
       " u'one',\n",
       " u'nature',\n",
       " u'fearsome',\n",
       " u'predators',\n",
       " u'furthermore',\n",
       " u'third',\n",
       " u'sabretooth',\n",
       " u'dangerous',\n",
       " u'slow',\n",
       " u'stalks',\n",
       " u'victims',\n",
       " u'movie',\n",
       " u'delivers',\n",
       " u'goods',\n",
       " u'lots',\n",
       " u'blood',\n",
       " u'gore',\n",
       " u'beheading',\n",
       " u'hair',\n",
       " u'raising',\n",
       " u'chills',\n",
       " u'full',\n",
       " u'scares',\n",
       " u'sabretooths',\n",
       " u'appear',\n",
       " u'mediocre',\n",
       " u'special',\n",
       " u'effects',\n",
       " u'story',\n",
       " u'provides',\n",
       " u'exciting',\n",
       " u'stirring',\n",
       " u'entertainment',\n",
       " u'results',\n",
       " u'quite',\n",
       " u'boring',\n",
       " u'giant',\n",
       " u'animals',\n",
       " u'majority',\n",
       " u'made',\n",
       " u'computer',\n",
       " u'generator',\n",
       " u'seem',\n",
       " u'totally',\n",
       " u'lousy',\n",
       " u'middling',\n",
       " u'performances',\n",
       " u'though',\n",
       " u'players',\n",
       " u'reacting',\n",
       " u'appropriately',\n",
       " u'becoming',\n",
       " u'food',\n",
       " u'actors',\n",
       " u'give',\n",
       " u'vigorously',\n",
       " u'physical',\n",
       " u'performances',\n",
       " u'dodging',\n",
       " u'beasts',\n",
       " u'running',\n",
       " u'bound',\n",
       " u'leaps',\n",
       " u'dangling',\n",
       " u'walls',\n",
       " u'packs',\n",
       " u'ridiculous',\n",
       " u'final',\n",
       " u'deadly',\n",
       " u'scene',\n",
       " u'small',\n",
       " u'kids',\n",
       " u'realistic',\n",
       " u'gory',\n",
       " u'violent',\n",
       " u'attack',\n",
       " u'scenes',\n",
       " u'films',\n",
       " u'sabretooths',\n",
       " u'smilodon',\n",
       " u'following',\n",
       " u'sabretooth',\n",
       " u'james',\n",
       " u'r',\n",
       " u'hickox',\n",
       " u'vanessa',\n",
       " u'angel',\n",
       " u'david',\n",
       " u'keith',\n",
       " u'john',\n",
       " u'rhys',\n",
       " u'davies',\n",
       " u'much',\n",
       " u'better',\n",
       " u'bc',\n",
       " u'roland',\n",
       " u'emmerich',\n",
       " u'steven',\n",
       " u'strait',\n",
       " u'cliff',\n",
       " u'curtis',\n",
       " u'camilla',\n",
       " u'belle',\n",
       " u'motion',\n",
       " u'picture',\n",
       " u'filled',\n",
       " u'bloody',\n",
       " u'moments',\n",
       " u'badly',\n",
       " u'directed',\n",
       " u'george',\n",
       " u'miller',\n",
       " u'originality',\n",
       " u'takes',\n",
       " u'many',\n",
       " u'elements',\n",
       " u'previous',\n",
       " u'films',\n",
       " u'miller',\n",
       " u'australian',\n",
       " u'director',\n",
       " u'usually',\n",
       " u'working',\n",
       " u'television',\n",
       " u'tidal',\n",
       " u'wave',\n",
       " u'journey',\n",
       " u'center',\n",
       " u'earth',\n",
       " u'many',\n",
       " u'others',\n",
       " u'occasionally',\n",
       " u'cinema',\n",
       " u'man',\n",
       " u'snowy',\n",
       " u'river',\n",
       " u'zeus',\n",
       " u'roxanne',\n",
       " u'robinson',\n",
       " u'crusoe',\n",
       " u'rating',\n",
       " u'average',\n",
       " u'bottom',\n",
       " u'barrel']"
      ]
     },
     "execution_count": 48,
     "metadata": {},
     "output_type": "execute_result"
    }
   ],
   "source": [
    "\n",
    "text_process(test)\n"
   ]
  },
  {
   "cell_type": "markdown",
   "metadata": {
    "collapsed": true
   },
   "source": [
    "Parsing Done"
   ]
  },
  {
   "cell_type": "code",
   "execution_count": 49,
   "metadata": {
    "collapsed": false
   },
   "outputs": [
    {
     "data": {
      "text/html": [
       "<div>\n",
       "<table border=\"1\" class=\"dataframe\">\n",
       "  <thead>\n",
       "    <tr style=\"text-align: right;\">\n",
       "      <th></th>\n",
       "      <th></th>\n",
       "      <th>review</th>\n",
       "    </tr>\n",
       "    <tr>\n",
       "      <th>sentiment</th>\n",
       "      <th></th>\n",
       "      <th></th>\n",
       "    </tr>\n",
       "  </thead>\n",
       "  <tbody>\n",
       "    <tr>\n",
       "      <th rowspan=\"4\" valign=\"top\">0</th>\n",
       "      <th>count</th>\n",
       "      <td>12500</td>\n",
       "    </tr>\n",
       "    <tr>\n",
       "      <th>unique</th>\n",
       "      <td>12432</td>\n",
       "    </tr>\n",
       "    <tr>\n",
       "      <th>top</th>\n",
       "      <td>This show comes up with interesting locations ...</td>\n",
       "    </tr>\n",
       "    <tr>\n",
       "      <th>freq</th>\n",
       "      <td>3</td>\n",
       "    </tr>\n",
       "    <tr>\n",
       "      <th rowspan=\"4\" valign=\"top\">1</th>\n",
       "      <th>count</th>\n",
       "      <td>12500</td>\n",
       "    </tr>\n",
       "    <tr>\n",
       "      <th>unique</th>\n",
       "      <td>12472</td>\n",
       "    </tr>\n",
       "    <tr>\n",
       "      <th>top</th>\n",
       "      <td>Though structured totally different from the b...</td>\n",
       "    </tr>\n",
       "    <tr>\n",
       "      <th>freq</th>\n",
       "      <td>2</td>\n",
       "    </tr>\n",
       "  </tbody>\n",
       "</table>\n",
       "</div>"
      ],
      "text/plain": [
       "                                                             review\n",
       "sentiment                                                          \n",
       "0         count                                               12500\n",
       "          unique                                              12432\n",
       "          top     This show comes up with interesting locations ...\n",
       "          freq                                                    3\n",
       "1         count                                               12500\n",
       "          unique                                              12472\n",
       "          top     Though structured totally different from the b...\n",
       "          freq                                                    2"
      ]
     },
     "execution_count": 49,
     "metadata": {},
     "output_type": "execute_result"
    }
   ],
   "source": [
    "dataset.groupby('sentiment').describe()"
   ]
  },
  {
   "cell_type": "code",
   "execution_count": 50,
   "metadata": {
    "collapsed": true
   },
   "outputs": [],
   "source": [
    "# Now we need to split up data"
   ]
  },
  {
   "cell_type": "code",
   "execution_count": 51,
   "metadata": {
    "collapsed": true
   },
   "outputs": [],
   "source": [
    "from sklearn.cross_validation import train_test_split"
   ]
  },
  {
   "cell_type": "code",
   "execution_count": 52,
   "metadata": {
    "collapsed": true
   },
   "outputs": [],
   "source": [
    "#Can delete. Will do this once everything is processed.\n",
    "\n",
    "X_train, X_test, y_train, y_test = train_test_split(dataset['review'], dataset['sentiment'])"
   ]
  },
  {
   "cell_type": "code",
   "execution_count": 53,
   "metadata": {
    "collapsed": false
   },
   "outputs": [
    {
     "name": "stdout",
     "output_type": "stream",
     "text": [
      "(18750L,)\n",
      "(6250L,)\n",
      "(18750L,)\n",
      "(6250L,)\n"
     ]
    }
   ],
   "source": [
    "print X_train.shape\n",
    "print X_test.shape\n",
    "print y_train.shape\n",
    "print y_test.shape"
   ]
  },
  {
   "cell_type": "code",
   "execution_count": 54,
   "metadata": {
    "collapsed": true
   },
   "outputs": [],
   "source": [
    "#Now to vectorize\n",
    "from sklearn.feature_extraction.text import CountVectorizer"
   ]
  },
  {
   "cell_type": "code",
   "execution_count": 55,
   "metadata": {
    "collapsed": false
   },
   "outputs": [
    {
     "data": {
      "text/plain": [
       "CountVectorizer(analyzer=<function text_process at 0x000000000D71F128>,\n",
       "        binary=False, decode_error=u'strict', dtype=<type 'numpy.int64'>,\n",
       "        encoding=u'utf-8', input=u'content', lowercase=True, max_df=1.0,\n",
       "        max_features=10000, min_df=1, ngram_range=(1, 1),\n",
       "        preprocessor=None, stop_words=None, strip_accents=None,\n",
       "        token_pattern=u'(?u)\\\\b\\\\w\\\\w+\\\\b', tokenizer=None,\n",
       "        vocabulary=None)"
      ]
     },
     "execution_count": 55,
     "metadata": {},
     "output_type": "execute_result"
    }
   ],
   "source": [
    "#The CountVectorizer will create a sparse matrix of all words (once processed) in each review\n",
    "#First you fit, then you transform\n",
    "bow_transform = CountVectorizer(analyzer = text_process, max_features = 10000)\n",
    "bow_transform.fit(dataset['review'])\n"
   ]
  },
  {
   "cell_type": "code",
   "execution_count": 56,
   "metadata": {
    "collapsed": false
   },
   "outputs": [
    {
     "name": "stdout",
     "output_type": "stream",
     "text": [
      "10000\n"
     ]
    }
   ],
   "source": [
    "print len(bow_transform.vocabulary_)\n",
    "#74065 unique words....also known as \"features\""
   ]
  },
  {
   "cell_type": "code",
   "execution_count": null,
   "metadata": {
    "collapsed": true
   },
   "outputs": [],
   "source": []
  },
  {
   "cell_type": "code",
   "execution_count": 57,
   "metadata": {
    "collapsed": false
   },
   "outputs": [
    {
     "name": "stdout",
     "output_type": "stream",
     "text": [
      "It must be assumed that those who praised this film (\\the greatest filmed opera ever,\\\" didn't I read somewhere?) either don't care for opera, don't care for Wagner, or don't care about anything except their desire to appear Cultured. Either as a representation of Wagner's swan-song, or as a movie, this strikes me as an unmitigated disaster, with a leaden reading of the score matched to a tricksy, lugubrious realisation of the text.<br /><br />It's questionable that people with ideas as to what an opera (or, for that matter, a play, especially one by Shakespeare) is \\\"about\\\" should be allowed anywhere near a theatre or film studio; Syberberg, very fashionably, but without the smallest justification from Wagner's text, decided that Parsifal is \\\"about\\\" bisexual integration, so that the title character, in the latter stages, transmutes into a kind of beatnik babe, though one who continues to sing high tenor -- few if any of the actors in the film are the singers, and we get a double dose of Armin Jordan, the conductor, who is seen as the face (but not heard as the voice) of Amfortas, and also appears monstrously in double exposure as a kind of Batonzilla or Conductor Who Ate Monsalvat during the playing of the Good Friday music -- in which, by the way, the transcendant loveliness of nature is represented by a scattering of shopworn and flaccid crocuses stuck in ill-laid turf, an expedient which baffles me. In the theatre we sometimes have to piece out such imperfections with our thoughts, but I can't think why Syberberg couldn't splice in, for Parsifal and Gurnemanz, mountain pasture as lush as was provided for Julie Andrews in Sound of Music...<br /><br />The sound is hard to endure, the high voices and the trumpets in particular possessing an aural glare that adds another sort of fatigue to our impatience with the uninspired conducting and paralytic unfolding of the ritual. Someone in another review mentioned the 1951 Bayreuth recording, and Knappertsbusch, though his tempi are often very slow, had what Jordan altogether lacks, a sense of pulse, a feeling for the ebb and flow of the music -- and, after half a century, the orchestral sound in that set, in modern pressings, is still superior to this film.\"\n"
     ]
    }
   ],
   "source": [
    "review4 = dataset['review'][3]\n",
    "print review4"
   ]
  },
  {
   "cell_type": "code",
   "execution_count": 58,
   "metadata": {
    "collapsed": false
   },
   "outputs": [
    {
     "name": "stdout",
     "output_type": "stream",
     "text": [
      "  (0, 85)\t1\n",
      "  (0, 114)\t1\n",
      "  (0, 255)\t1\n",
      "  (0, 267)\t1\n",
      "  (0, 275)\t1\n",
      "  (0, 322)\t1\n",
      "  (0, 362)\t2\n",
      "  (0, 385)\t1\n",
      "  (0, 389)\t1\n",
      "  (0, 408)\t1\n",
      "  (0, 413)\t1\n",
      "  (0, 530)\t1\n",
      "  (0, 543)\t1\n",
      "  (0, 639)\t1\n",
      "  (0, 1289)\t3\n",
      "  (0, 1400)\t1\n",
      "  (0, 1438)\t1\n",
      "  (0, 1831)\t2\n",
      "  (0, 1912)\t1\n",
      "  (0, 2286)\t1\n",
      "  (0, 2419)\t1\n",
      "  (0, 2539)\t1\n",
      "  (0, 2648)\t1\n",
      "  (0, 2650)\t2\n",
      "  (0, 2860)\t2\n",
      "  :\t:\n",
      "  (0, 8273)\t1\n",
      "  (0, 8277)\t1\n",
      "  (0, 8279)\t1\n",
      "  (0, 8282)\t1\n",
      "  (0, 8300)\t1\n",
      "  (0, 8308)\t3\n",
      "  (0, 8429)\t1\n",
      "  (0, 8528)\t1\n",
      "  (0, 8590)\t1\n",
      "  (0, 8612)\t1\n",
      "  (0, 8618)\t1\n",
      "  (0, 8724)\t1\n",
      "  (0, 8960)\t2\n",
      "  (0, 8972)\t2\n",
      "  (0, 8996)\t1\n",
      "  (0, 9010)\t2\n",
      "  (0, 9013)\t1\n",
      "  (0, 9081)\t1\n",
      "  (0, 9379)\t1\n",
      "  (0, 9393)\t1\n",
      "  (0, 9609)\t1\n",
      "  (0, 9611)\t1\n",
      "  (0, 9633)\t3\n",
      "  (0, 9716)\t1\n",
      "  (0, 9857)\t1\n"
     ]
    }
   ],
   "source": [
    "#Now see vector representation\n",
    "bow4 = bow_transform.transform([review4])\n",
    "print bow4"
   ]
  },
  {
   "cell_type": "code",
   "execution_count": 59,
   "metadata": {
    "collapsed": false
   },
   "outputs": [
    {
     "name": "stdout",
     "output_type": "stream",
     "text": [
      "studio\n"
     ]
    }
   ],
   "source": [
    "print bow_transform.get_feature_names()[8618]"
   ]
  },
  {
   "cell_type": "code",
   "execution_count": 60,
   "metadata": {
    "collapsed": true
   },
   "outputs": [],
   "source": [
    "#Lets transform the entire dataset\n",
    "review_vector = bow_transform.transform(dataset['review'])"
   ]
  },
  {
   "cell_type": "code",
   "execution_count": 61,
   "metadata": {
    "collapsed": true
   },
   "outputs": [],
   "source": [
    "#Now we need to convert to a weighted matrix. Not just 1s and 0s but a number between 0 and 1\n",
    "# Will use TfidfTransformer. \n",
    "\n",
    "from sklearn.feature_extraction.text import TfidfTransformer"
   ]
  },
  {
   "cell_type": "code",
   "execution_count": 62,
   "metadata": {
    "collapsed": false
   },
   "outputs": [
    {
     "data": {
      "text/plain": [
       "TfidfTransformer(norm=u'l2', smooth_idf=True, sublinear_tf=False,\n",
       "         use_idf=True)"
      ]
     },
     "execution_count": 62,
     "metadata": {},
     "output_type": "execute_result"
    }
   ],
   "source": [
    "tfidf_transformer = TfidfTransformer()\n",
    "tfidf_transformer.fit(review_vector)"
   ]
  },
  {
   "cell_type": "code",
   "execution_count": 63,
   "metadata": {
    "collapsed": false
   },
   "outputs": [
    {
     "name": "stdout",
     "output_type": "stream",
     "text": [
      "  (0, 9857)\t0.045103073059\n",
      "  (0, 9716)\t0.0342877360866\n",
      "  (0, 9633)\t0.321688477696\n",
      "  (0, 9611)\t0.0830491176226\n",
      "  (0, 9609)\t0.0615290459961\n",
      "  (0, 9393)\t0.0894294439754\n",
      "  (0, 9379)\t0.103358952969\n",
      "  (0, 9081)\t0.0560895671729\n",
      "  (0, 9013)\t0.0817862691882\n",
      "  (0, 9010)\t0.0832739587959\n",
      "  (0, 8996)\t0.0357546514233\n",
      "  (0, 8972)\t0.157440525912\n",
      "  (0, 8960)\t0.177509815537\n",
      "  (0, 8724)\t0.0775285569733\n",
      "  (0, 8618)\t0.0718026977612\n",
      "  (0, 8612)\t0.0751549965427\n",
      "  (0, 8590)\t0.0889762026335\n",
      "  (0, 8528)\t0.0386583813324\n",
      "  (0, 8429)\t0.0974127379459\n",
      "  (0, 8308)\t0.174971602552\n",
      "  (0, 8300)\t0.0563100009335\n",
      "  (0, 8282)\t0.0636188583366\n",
      "  (0, 8279)\t0.0708101106969\n",
      "  (0, 8277)\t0.0591816684639\n",
      "  (0, 8273)\t0.0499907557199\n",
      "  :\t:\n",
      "  (0, 2860)\t0.104941776188\n",
      "  (0, 2650)\t0.149318924069\n",
      "  (0, 2648)\t0.0964356206627\n",
      "  (0, 2539)\t0.0774295175263\n",
      "  (0, 2419)\t0.0786663101926\n",
      "  (0, 2286)\t0.0654861002123\n",
      "  (0, 1912)\t0.0792153162647\n",
      "  (0, 1831)\t0.216125652086\n",
      "  (0, 1438)\t0.0374058606796\n",
      "  (0, 1400)\t0.070534505786\n",
      "  (0, 1289)\t0.171153209097\n",
      "  (0, 639)\t0.0943336099906\n",
      "  (0, 543)\t0.109412664395\n",
      "  (0, 530)\t0.0950002075295\n",
      "  (0, 413)\t0.0633789651982\n",
      "  (0, 408)\t0.0674899296718\n",
      "  (0, 389)\t0.0771364881102\n",
      "  (0, 385)\t0.046443348729\n",
      "  (0, 362)\t0.083085385563\n",
      "  (0, 322)\t0.0978232763488\n",
      "  (0, 275)\t0.0906303819815\n",
      "  (0, 267)\t0.0333330013353\n",
      "  (0, 255)\t0.0762466448101\n",
      "  (0, 114)\t0.0758880792479\n",
      "  (0, 85)\t0.0415270391925\n"
     ]
    }
   ],
   "source": [
    "#test same message as above\n",
    "#Now the words are weighted\n",
    "tdf4 = tfidf_transformer.transform(bow4)\n",
    "print tdf4"
   ]
  },
  {
   "cell_type": "code",
   "execution_count": 64,
   "metadata": {
    "collapsed": false
   },
   "outputs": [
    {
     "name": "stdout",
     "output_type": "stream",
     "text": [
      "(25000, 10000)\n"
     ]
    }
   ],
   "source": [
    "#Lets do the whole dataset now\n",
    "review_tfidf = tfidf_transformer.transform(review_vector)\n",
    "print review_tfidf.shape"
   ]
  },
  {
   "cell_type": "code",
   "execution_count": 65,
   "metadata": {
    "collapsed": true
   },
   "outputs": [],
   "source": [
    "# So I've been working with the entire dataset. So I will now train test split again\n",
    "X_train, X_test, y_train, y_test = train_test_split(review_tfidf, dataset['sentiment'])"
   ]
  },
  {
   "cell_type": "code",
   "execution_count": 66,
   "metadata": {
    "collapsed": false
   },
   "outputs": [
    {
     "data": {
      "text/plain": [
       "(6250, 10000)"
      ]
     },
     "execution_count": 66,
     "metadata": {},
     "output_type": "execute_result"
    }
   ],
   "source": [
    "X_test.shape"
   ]
  },
  {
   "cell_type": "code",
   "execution_count": 67,
   "metadata": {
    "collapsed": true
   },
   "outputs": [],
   "source": [
    "#Now we come to training since the data has been vectorized and weighted\n",
    "#First we will use Naive Bayes\n",
    "from sklearn.naive_bayes import GaussianNB"
   ]
  },
  {
   "cell_type": "code",
   "execution_count": 68,
   "metadata": {
    "collapsed": false
   },
   "outputs": [],
   "source": [
    "#Converting from a sparse matrix to a dense matrix\n",
    "from scipy.sparse import csr_matrix\n",
    "X_train = csr_matrix(X_train)\n"
   ]
  },
  {
   "cell_type": "code",
   "execution_count": 69,
   "metadata": {
    "collapsed": false
   },
   "outputs": [
    {
     "data": {
      "text/plain": [
       "matrix([[ 0.,  0.,  0., ...,  0.,  0.,  0.],\n",
       "        [ 0.,  0.,  0., ...,  0.,  0.,  0.],\n",
       "        [ 0.,  0.,  0., ...,  0.,  0.,  0.],\n",
       "        ..., \n",
       "        [ 0.,  0.,  0., ...,  0.,  0.,  0.],\n",
       "        [ 0.,  0.,  0., ...,  0.,  0.,  0.],\n",
       "        [ 0.,  0.,  0., ...,  0.,  0.,  0.]])"
      ]
     },
     "execution_count": 69,
     "metadata": {},
     "output_type": "execute_result"
    }
   ],
   "source": [
    "X_train.todense()"
   ]
  },
  {
   "cell_type": "code",
   "execution_count": null,
   "metadata": {
    "collapsed": false
   },
   "outputs": [],
   "source": [
    "X_train.toarray()"
   ]
  },
  {
   "cell_type": "code",
   "execution_count": 70,
   "metadata": {
    "collapsed": true
   },
   "outputs": [],
   "source": [
    "X_train = X_train.toarray()"
   ]
  },
  {
   "cell_type": "code",
   "execution_count": 71,
   "metadata": {
    "collapsed": false
   },
   "outputs": [
    {
     "data": {
      "text/plain": [
       "(18750L, 10000L)"
      ]
     },
     "execution_count": 71,
     "metadata": {},
     "output_type": "execute_result"
    }
   ],
   "source": [
    "X_train.shape"
   ]
  },
  {
   "cell_type": "code",
   "execution_count": 72,
   "metadata": {
    "collapsed": false
   },
   "outputs": [
    {
     "data": {
      "text/plain": [
       "GaussianNB()"
      ]
     },
     "execution_count": 72,
     "metadata": {},
     "output_type": "execute_result"
    }
   ],
   "source": [
    "clf = GaussianNB()\n",
    "clf.fit(X_train, y_train)"
   ]
  },
  {
   "cell_type": "code",
   "execution_count": null,
   "metadata": {
    "collapsed": true
   },
   "outputs": [],
   "source": [
    "#Now to use testing data to see if anything works..anything at all"
   ]
  }
 ],
 "metadata": {
  "kernelspec": {
   "display_name": "Python 2",
   "language": "python",
   "name": "python2"
  },
  "language_info": {
   "codemirror_mode": {
    "name": "ipython",
    "version": 2
   },
   "file_extension": ".py",
   "mimetype": "text/x-python",
   "name": "python",
   "nbconvert_exporter": "python",
   "pygments_lexer": "ipython2",
   "version": "2.7.11"
  }
 },
 "nbformat": 4,
 "nbformat_minor": 0
}
