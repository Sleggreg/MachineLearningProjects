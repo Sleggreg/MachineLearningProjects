{
 "cells": [
  {
   "cell_type": "code",
   "execution_count": 1,
   "metadata": {
    "collapsed": true
   },
   "outputs": [],
   "source": [
    "from bs4 import BeautifulSoup"
   ]
  },
  {
   "cell_type": "code",
   "execution_count": 2,
   "metadata": {
    "collapsed": false
   },
   "outputs": [
    {
     "data": {
      "text/plain": [
       "['<html><heading style=\"font-size:20px\"><i>This is the title<br><br></i></heading>',\n",
       " '<body><b>This is the body</b><p id=\"para1\">This is para1<a href=\"www.google.com\">Google</a></p>',\n",
       " '<p id=\"para2\">This is para 2</p></body></html>']"
      ]
     },
     "execution_count": 2,
     "metadata": {},
     "output_type": "execute_result"
    }
   ],
   "source": [
    "html=['<html><heading style=\"font-size:20px\"><i>This is the title<br><br></i></heading>',\n",
    "     '<body><b>This is the body</b><p id=\"para1\">This is para1<a href=\"www.google.com\">Google</a></p>',\n",
    "     '<p id=\"para2\">This is para 2</p></body></html>']\n",
    "html #is a list"
   ]
  },
  {
   "cell_type": "code",
   "execution_count": 3,
   "metadata": {
    "collapsed": false
   },
   "outputs": [
    {
     "data": {
      "text/plain": [
       "'<html><heading style=\"font-size:20px\"><i>This is the title<br><br></i></heading><body><b>This is the body</b><p id=\"para1\">This is para1<a href=\"www.google.com\">Google</a></p><p id=\"para2\">This is para 2</p></body></html>'"
      ]
     },
     "execution_count": 3,
     "metadata": {},
     "output_type": "execute_result"
    }
   ],
   "source": [
    "html=''.join(html)\n",
    "html #is a string"
   ]
  },
  {
   "cell_type": "code",
   "execution_count": 4,
   "metadata": {
    "collapsed": false
   },
   "outputs": [
    {
     "name": "stderr",
     "output_type": "stream",
     "text": [
      "C:\\Users\\GregH\\AppData\\Local\\Continuum\\Anaconda2\\lib\\site-packages\\bs4\\__init__.py:166: UserWarning: No parser was explicitly specified, so I'm using the best available HTML parser for this system (\"lxml\"). This usually isn't a problem, but if you run this code on another system, or in a different virtual environment, it may use a different parser and behave differently.\n",
      "\n",
      "To get rid of this warning, change this:\n",
      "\n",
      " BeautifulSoup([your markup])\n",
      "\n",
      "to this:\n",
      "\n",
      " BeautifulSoup([your markup], \"lxml\")\n",
      "\n",
      "  markup_type=markup_type))\n"
     ]
    }
   ],
   "source": [
    "soup = BeautifulSoup(html)"
   ]
  },
  {
   "cell_type": "code",
   "execution_count": 5,
   "metadata": {
    "collapsed": false
   },
   "outputs": [
    {
     "name": "stdout",
     "output_type": "stream",
     "text": [
      "<html>\n",
      " <body>\n",
      "  <heading style=\"font-size:20px\">\n",
      "   <i>\n",
      "    This is the title\n",
      "    <br/>\n",
      "    <br/>\n",
      "   </i>\n",
      "  </heading>\n",
      "  <b>\n",
      "   This is the body\n",
      "  </b>\n",
      "  <p id=\"para1\">\n",
      "   This is para1\n",
      "   <a href=\"www.google.com\">\n",
      "    Google\n",
      "   </a>\n",
      "  </p>\n",
      "  <p id=\"para2\">\n",
      "   This is para 2\n",
      "  </p>\n",
      " </body>\n",
      "</html>\n"
     ]
    }
   ],
   "source": [
    "print(soup.prettify())"
   ]
  },
  {
   "cell_type": "code",
   "execution_count": 14,
   "metadata": {
    "collapsed": false
   },
   "outputs": [
    {
     "name": "stdout",
     "output_type": "stream",
     "text": [
      "1. html\n",
      "2. body\n",
      "3. This is the titleThis is the bodyThis is para1GoogleThis is para 2\n",
      "[<heading style=\"font-size:20px\"><i>This is the title<br/><br/></i></heading>, <b>This is the body</b>, <p id=\"para1\">This is para1<a href=\"www.google.com\">Google</a></p>, <p id=\"para2\">This is para 2</p>]\n"
     ]
    }
   ],
   "source": [
    "#Naming attributes\n",
    "print '1. ' + soup.html.name\n",
    "print '2. '+ soup.body.name\n",
    "print '3. '+ soup.body.text\n",
    "print soup.body.contents #prints everything within the body"
   ]
  },
  {
   "cell_type": "code",
   "execution_count": 21,
   "metadata": {
    "collapsed": false
   },
   "outputs": [
    {
     "name": "stdout",
     "output_type": "stream",
     "text": [
      "html\n",
      "body\n",
      "<p id=\"para1\">This is para1<a href=\"www.google.com\">Google</a></p>\n",
      "<b>This is the body</b>\n"
     ]
    }
   ],
   "source": [
    "#Parent and sibling references\n",
    "print soup.body.parent.name #The parent of the body is html\n",
    "print soup.heading.parent.name #The parent of the heading is body\n",
    "print soup.b.nextSibling\n",
    "print soup.p.previousSibling"
   ]
  },
  {
   "cell_type": "code",
   "execution_count": 20,
   "metadata": {
    "collapsed": false
   },
   "outputs": [
    {
     "name": "stdout",
     "output_type": "stream",
     "text": [
      "[<b>This is the body</b>]\n",
      "This is the body\n",
      "[<p id=\"para1\">This is para1<a href=\"www.google.com\">Google</a></p>, <p id=\"para2\">This is para 2</p>]\n",
      "This is para1Google This is para 2\n"
     ]
    }
   ],
   "source": [
    "#Finding \n",
    "bold = soup.findAll('b') #includes the tags\n",
    "print bold\n",
    "print(bold[0].text) # just the text\n",
    "\n",
    "#Get all text in the paragraphs\n",
    "print soup.findAll('p')\n",
    "\n",
    "#Get as a simple string\n",
    "paras = ' '.join([p.text for p in soup.findAll('p')]) #Adds a space in between the combined paragraph text\n",
    "print paras\n"
   ]
  },
  {
   "cell_type": "code",
   "execution_count": 28,
   "metadata": {
    "collapsed": false
   },
   "outputs": [
    {
     "name": "stdout",
     "output_type": "stream",
     "text": [
      "This is para 2\n",
      "This is the title\n",
      "[<b>This is the body</b>, <p id=\"para1\">This is para1<a href=\"www.google.com\">Google</a></p>, <p id=\"para2\">This is para 2</p>]\n",
      "[<b>This is the body</b>, <p id=\"para1\">This is para1<a href=\"www.google.com\">Google</a></p>, <p id=\"para2\">This is para 2</p>]\n",
      "[<a href=\"www.google.com\">Google</a>]\n"
     ]
    }
   ],
   "source": [
    "#Finding (Attributes)\n",
    "print soup.findAll(id='para2')[0].text\n",
    "\n",
    "font20=' '.join([p.text for p in soup.findAll(style=\"font-size:20px\")])\n",
    "print(font20)\n",
    "\n",
    "#Pass in a list or dictionary\n",
    "print soup.findAll(['b','p'])\n",
    "print soup.findAll({'b':True,'p':True})\n"
   ]
  },
  {
   "cell_type": "code",
   "execution_count": 6,
   "metadata": {
    "collapsed": false,
    "scrolled": true
   },
   "outputs": [
    {
     "name": "stdout",
     "output_type": "stream",
     "text": [
      "[<a href=\"www.google.com\">Google</a>]\n",
      "<a href=\"www.google.com\">Google</a>\n",
      "[<a href=\"www.google.com\">Google</a>]\n"
     ]
    }
   ],
   "source": [
    "#Finding Links\n",
    "links = soup.findAll('a')\n",
    "print links\n",
    "\n",
    "#Or if you want to find first one\n",
    "print soup.find('a')\n",
    "\n",
    "#Or a number of them\n",
    "print soup.findAll('a',limit=10)"
   ]
  },
  {
   "cell_type": "code",
   "execution_count": 7,
   "metadata": {
    "collapsed": false
   },
   "outputs": [
    {
     "ename": "TypeError",
     "evalue": "list indices must be integers, not str",
     "output_type": "error",
     "traceback": [
      "\u001b[1;31m---------------------------------------------------------------------------\u001b[0m",
      "\u001b[1;31mTypeError\u001b[0m                                 Traceback (most recent call last)",
      "\u001b[1;32m<ipython-input-7-42fd6d377d46>\u001b[0m in \u001b[0;36m<module>\u001b[1;34m()\u001b[0m\n\u001b[0;32m      1\u001b[0m \u001b[1;31m#links - Extracting text and link seperately\u001b[0m\u001b[1;33m\u001b[0m\u001b[1;33m\u001b[0m\u001b[0m\n\u001b[1;32m----> 2\u001b[1;33m \u001b[1;32mprint\u001b[0m\u001b[1;33m(\u001b[0m\u001b[0mlinks\u001b[0m\u001b[1;33m[\u001b[0m\u001b[1;34m'href'\u001b[0m\u001b[1;33m]\u001b[0m\u001b[1;33m+\u001b[0m\u001b[1;34m\" is the url and \"\u001b[0m\u001b[1;33m+\u001b[0m\u001b[0mlinks\u001b[0m\u001b[1;33m.\u001b[0m\u001b[0mtext\u001b[0m\u001b[1;33m+\u001b[0m\u001b[1;34m\" is the text\"\u001b[0m\u001b[1;33m)\u001b[0m\u001b[1;33m\u001b[0m\u001b[0m\n\u001b[0m",
      "\u001b[1;31mTypeError\u001b[0m: list indices must be integers, not str"
     ]
    }
   ],
   "source": [
    "#links - Extracting text and link seperately\n",
    "print(links['href']+\" is the url and \"+links.text+\" is the text\")\n"
   ]
  },
  {
   "cell_type": "code",
   "execution_count": 12,
   "metadata": {
    "collapsed": false
   },
   "outputs": [
    {
     "name": "stdout",
     "output_type": "stream",
     "text": [
      "Google\n",
      "<p id=\"para2\">This is para 2</p>\n",
      "This is para 2\n"
     ]
    }
   ],
   "source": [
    "#Some Navigation\n",
    "print soup.find(text='Google')\n",
    "print soup.find(text='Google').findNext('p')\n",
    "print soup.find(text='Google').findNext('p').text"
   ]
  },
  {
   "cell_type": "code",
   "execution_count": 13,
   "metadata": {
    "collapsed": false
   },
   "outputs": [
    {
     "name": "stdout",
     "output_type": "stream",
     "text": [
      "[<p id=\"para1\">This is para1<a href=\"www.google.com\">Google</a></p>, <p id=\"para2\">This is para 2</p>]\n"
     ]
    }
   ],
   "source": [
    "#Shortcut - Call the tag as the function\n",
    "print soup.body('p')"
   ]
  },
  {
   "cell_type": "code",
   "execution_count": null,
   "metadata": {
    "collapsed": true
   },
   "outputs": [],
   "source": []
  }
 ],
 "metadata": {
  "kernelspec": {
   "display_name": "Python 2",
   "language": "python",
   "name": "python2"
  },
  "language_info": {
   "codemirror_mode": {
    "name": "ipython",
    "version": 2
   },
   "file_extension": ".py",
   "mimetype": "text/x-python",
   "name": "python",
   "nbconvert_exporter": "python",
   "pygments_lexer": "ipython2",
   "version": "2.7.11"
  }
 },
 "nbformat": 4,
 "nbformat_minor": 0
}
