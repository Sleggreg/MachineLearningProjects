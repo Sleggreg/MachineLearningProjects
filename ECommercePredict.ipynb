{
 "cells": [
  {
   "cell_type": "markdown",
   "metadata": {},
   "source": [
    "Creating a forward prop network using the Ecommerce data\n",
    "\n",
    "https://github.com/lazyprogrammer/machine_learning_examples/blob/master/ann_logistic_extra/ann_predict.py\n"
   ]
  },
  {
   "cell_type": "code",
   "execution_count": 1,
   "metadata": {
    "collapsed": false
   },
   "outputs": [
    {
     "name": "stdout",
     "output_type": "stream",
     "text": [
      "[[ 1.          0.          0.65750995  0.          3.          0.        ]\n",
      " [ 1.          1.          0.56857123  0.          2.          1.        ]\n",
      " [ 1.          0.          0.042246    1.          1.          0.        ]\n",
      " ..., \n",
      " [ 0.          0.          0.1728534   1.          3.          0.        ]\n",
      " [ 1.          0.          0.2099644   0.          3.          0.        ]\n",
      " [ 0.          0.          2.61688195  1.          3.          0.        ]]\n",
      "(500L, 5L)\n",
      "(500L,)\n",
      "[[ 1.         -1.89931526 -1.37410378 ...,  0.          0.          1.        ]\n",
      " [ 1.         -0.89931526 -1.46304249 ...,  0.          1.          0.        ]\n",
      " [ 1.         -1.89931526 -1.98936773 ...,  1.          0.          0.        ]\n",
      " ..., \n",
      " [ 0.         -1.89931526 -1.85876033 ...,  0.          0.          1.        ]\n",
      " [ 1.         -1.89931526 -1.82164933 ...,  0.          0.          1.        ]\n",
      " [ 0.         -1.89931526  0.58526823 ...,  0.          0.          1.        ]]\n"
     ]
    }
   ],
   "source": [
    "%run 'ECommerce.ipynb' #runs the notebook with the data prep work"
   ]
  },
  {
   "cell_type": "code",
   "execution_count": 2,
   "metadata": {
    "collapsed": false
   },
   "outputs": [],
   "source": [
    "X, Y = get_data()"
   ]
  },
  {
   "cell_type": "code",
   "execution_count": 3,
   "metadata": {
    "collapsed": false
   },
   "outputs": [],
   "source": [
    "#Lets set some parameters\n",
    "\n",
    "M = 5 #Number of hidden units\n",
    "D = X.shape[1] #Number of features. [1] is axis, in this case: 8\n",
    "K = len(set(Y)) #Number of output classes. 'Set' is an \"unordered collection of unique elements\". Very cool\n",
    "\n",
    "W1 = np.random.randn(D, M) #an 8x5 matrix, \n",
    "b1 = np.zeros(M) #a 5x1 array\n",
    "W2 = np.random.randn(M, K) #a 5x4 matrix\n",
    "b2 = np.zeros(K) #a 4x1 array"
   ]
  },
  {
   "cell_type": "code",
   "execution_count": 4,
   "metadata": {
    "collapsed": true
   },
   "outputs": [],
   "source": [
    "#Define our softmax function\n",
    "\n",
    "def softmax(a):\n",
    "    expA = np.exp(a)\n",
    "    return expA / expA.sum(axis=1, keepdims=True)"
   ]
  },
  {
   "cell_type": "code",
   "execution_count": 5,
   "metadata": {
    "collapsed": true
   },
   "outputs": [],
   "source": [
    "#Create our forward prop function. Notice this time we are using tanh rather than sigmoid as our activation function\n",
    "\n",
    "def forward(X, W1, b1, W2, b2):\n",
    "    Z = np.tanh(X.dot(W1) + b1) #.dot is matrix multiplication\n",
    "    return softmax(Z.dot(W2) + b2)\n",
    "    "
   ]
  },
  {
   "cell_type": "code",
   "execution_count": 6,
   "metadata": {
    "collapsed": true
   },
   "outputs": [],
   "source": [
    "#Getting the outputs\n",
    "\n",
    "P_Y_given_X = forward(X, W1, b1, W2, b2)\n",
    "predictions = np.argmax(P_Y_given_X, axis=1) #Predictions"
   ]
  },
  {
   "cell_type": "markdown",
   "metadata": {},
   "source": [
    "Note that 'P_Y_given_X' will return a 500x4 matrix. This is the number of inputs and the number of outputs. The outputs will be\n",
    "in probabilities of likeyhoods. ex.[ 0.28172556,  0.21584919,  0.25067366,  0.25175159]. The argmax will take the highest number\n",
    "from each row (the likelyhood of which category it should go in.) and will indicate which column it is in. (In this case 0-4)"
   ]
  },
  {
   "cell_type": "code",
   "execution_count": 7,
   "metadata": {
    "collapsed": true
   },
   "outputs": [],
   "source": [
    "#Calculate accuracy\n",
    "\n",
    "def classification_rate(Y, P): #takes in 'targets' and 'predictions'\n",
    "    return np.mean(Y == P) # number correct answers divided by total"
   ]
  },
  {
   "cell_type": "code",
   "execution_count": 8,
   "metadata": {
    "collapsed": false
   },
   "outputs": [
    {
     "name": "stdout",
     "output_type": "stream",
     "text": [
      "Score: 0.178\n"
     ]
    }
   ],
   "source": [
    "print \"Score:\", classification_rate(Y, predictions)"
   ]
  },
  {
   "cell_type": "markdown",
   "metadata": {
    "collapsed": true
   },
   "source": [
    "I expected 25%. We'll see how it develops once we start to train it"
   ]
  },
  {
   "cell_type": "code",
   "execution_count": null,
   "metadata": {
    "collapsed": true
   },
   "outputs": [],
   "source": []
  },
  {
   "cell_type": "code",
   "execution_count": null,
   "metadata": {
    "collapsed": true
   },
   "outputs": [],
   "source": []
  },
  {
   "cell_type": "code",
   "execution_count": 9,
   "metadata": {
    "collapsed": false
   },
   "outputs": [
    {
     "data": {
      "text/plain": [
       "0.748"
      ]
     },
     "execution_count": 9,
     "metadata": {},
     "output_type": "execute_result"
    }
   ],
   "source": [
    "np.mean(Y)"
   ]
  },
  {
   "cell_type": "code",
   "execution_count": 10,
   "metadata": {
    "collapsed": false
   },
   "outputs": [
    {
     "data": {
      "text/plain": [
       "1.6899999999999999"
      ]
     },
     "execution_count": 10,
     "metadata": {},
     "output_type": "execute_result"
    }
   ],
   "source": [
    "np.mean(predictions)"
   ]
  },
  {
   "cell_type": "code",
   "execution_count": 11,
   "metadata": {
    "collapsed": false
   },
   "outputs": [
    {
     "data": {
      "text/plain": [
       "0.17799999999999999"
      ]
     },
     "execution_count": 11,
     "metadata": {},
     "output_type": "execute_result"
    }
   ],
   "source": [
    "np.mean(Y == predictions)"
   ]
  },
  {
   "cell_type": "code",
   "execution_count": 12,
   "metadata": {
    "collapsed": false
   },
   "outputs": [
    {
     "data": {
      "text/plain": [
       "array([[ 0.19714023,  0.01758698,  0.75599731,  0.02927548],\n",
       "       [ 0.2278813 ,  0.01485784,  0.69625401,  0.06100685],\n",
       "       [ 0.02011641,  0.02858025,  0.92467299,  0.02663035],\n",
       "       ..., \n",
       "       [ 0.19387182,  0.04493136,  0.70114653,  0.06005029],\n",
       "       [ 0.24308289,  0.02242113,  0.697645  ,  0.03685099],\n",
       "       [ 0.05242782,  0.27534583,  0.60961857,  0.06260779]])"
      ]
     },
     "execution_count": 12,
     "metadata": {},
     "output_type": "execute_result"
    }
   ],
   "source": [
    "P_Y_given_X"
   ]
  },
  {
   "cell_type": "code",
   "execution_count": 13,
   "metadata": {
    "collapsed": false
   },
   "outputs": [
    {
     "data": {
      "text/plain": [
       "array([2, 2, 2, 2, 1, 2, 2, 2, 1, 2, 1, 2, 2, 2, 2, 1, 1, 1, 2, 2, 2, 2, 2,\n",
       "       1, 2, 2, 2, 2, 3, 1, 2, 1, 1, 1, 1, 2, 2, 2, 2, 2, 1, 2, 2, 1, 1, 1,\n",
       "       0, 2, 2, 2, 1, 1, 2, 2, 2, 1, 2, 2, 2, 2, 2, 2, 2, 2, 2, 2, 3, 2, 1,\n",
       "       2, 2, 2, 2, 2, 2, 2, 1, 1, 2, 1, 2, 2, 0, 2, 2, 2, 2, 2, 1, 1, 2, 2,\n",
       "       2, 2, 1, 1, 1, 1, 2, 2, 2, 1, 2, 2, 2, 3, 2, 2, 1, 2, 1, 2, 2, 2, 2,\n",
       "       1, 2, 2, 2, 2, 2, 2, 1, 2, 2, 2, 1, 2, 1, 2, 2, 2, 0, 2, 2, 2, 2, 1,\n",
       "       2, 2, 2, 2, 2, 2, 2, 0, 1, 2, 2, 2, 1, 1, 2, 1, 2, 2, 2, 2, 1, 1, 2,\n",
       "       1, 2, 2, 2, 3, 2, 2, 2, 1, 1, 2, 1, 2, 2, 2, 2, 1, 2, 2, 2, 2, 2, 2,\n",
       "       2, 1, 2, 2, 2, 2, 1, 2, 2, 2, 2, 1, 2, 2, 2, 2, 2, 2, 1, 2, 1, 1, 2,\n",
       "       2, 2, 3, 2, 2, 2, 2, 2, 2, 0, 2, 1, 1, 0, 2, 2, 2, 1, 2, 2, 2, 2, 1,\n",
       "       2, 2, 2, 2, 2, 2, 1, 2, 2, 2, 1, 2, 2, 2, 2, 2, 1, 2, 2, 1, 1, 2, 2,\n",
       "       2, 1, 0, 2, 2, 1, 0, 2, 2, 1, 2, 2, 1, 1, 2, 2, 1, 2, 2, 1, 1, 2, 1,\n",
       "       2, 1, 1, 2, 2, 2, 1, 2, 2, 1, 2, 2, 2, 2, 2, 1, 2, 2, 2, 2, 1, 2, 2,\n",
       "       2, 2, 2, 2, 2, 2, 2, 1, 2, 2, 1, 2, 1, 2, 0, 1, 2, 1, 1, 1, 2, 2, 3,\n",
       "       2, 2, 2, 2, 1, 1, 1, 2, 2, 2, 1, 2, 2, 2, 2, 2, 2, 1, 2, 2, 2, 1, 2,\n",
       "       1, 2, 1, 2, 2, 2, 1, 2, 1, 2, 2, 2, 1, 1, 2, 2, 2, 2, 2, 1, 1, 1, 2,\n",
       "       2, 2, 2, 2, 1, 1, 2, 1, 2, 1, 2, 2, 2, 1, 1, 2, 1, 2, 2, 2, 1, 2, 2,\n",
       "       2, 2, 2, 2, 0, 2, 2, 1, 2, 2, 2, 2, 1, 1, 1, 1, 2, 2, 1, 1, 1, 1, 2,\n",
       "       2, 2, 2, 2, 2, 1, 1, 2, 0, 2, 0, 2, 2, 2, 2, 2, 2, 2, 2, 2, 2, 2, 1,\n",
       "       1, 2, 2, 2, 1, 1, 2, 2, 2, 2, 1, 2, 2, 2, 2, 1, 2, 2, 2, 3, 2, 2, 2,\n",
       "       2, 2, 2, 2, 1, 2, 1, 2, 2, 2, 2, 2, 2, 2, 2, 2, 1, 1, 0, 2, 2, 1, 1,\n",
       "       1, 2, 1, 1, 2, 1, 3, 1, 2, 2, 2, 2, 1, 2, 2, 2, 2], dtype=int64)"
      ]
     },
     "execution_count": 13,
     "metadata": {},
     "output_type": "execute_result"
    }
   ],
   "source": [
    "predictions"
   ]
  },
  {
   "cell_type": "code",
   "execution_count": 14,
   "metadata": {
    "collapsed": false
   },
   "outputs": [
    {
     "data": {
      "text/plain": [
       "array([  65.00136008,  115.42522244,  265.36399944,   54.20941804])"
      ]
     },
     "execution_count": 14,
     "metadata": {},
     "output_type": "execute_result"
    }
   ],
   "source": [
    "P_Y_given_X.sum(axis=0)"
   ]
  },
  {
   "cell_type": "code",
   "execution_count": null,
   "metadata": {
    "collapsed": true
   },
   "outputs": [],
   "source": []
  },
  {
   "cell_type": "code",
   "execution_count": null,
   "metadata": {
    "collapsed": true
   },
   "outputs": [],
   "source": []
  },
  {
   "cell_type": "code",
   "execution_count": 15,
   "metadata": {
    "collapsed": false
   },
   "outputs": [
    {
     "data": {
      "text/plain": [
       "array([[-0.05044311, -0.55835037, -0.17279349,  0.23484872,  1.32395406],\n",
       "       [ 0.71110169,  0.54462538, -0.71487878, -0.42893933, -2.11999973],\n",
       "       [ 0.57439436,  0.97736134,  0.608778  , -0.2995514 , -0.21239249],\n",
       "       [-0.2616803 ,  0.80928768, -1.4002453 ,  0.83436383,  0.31563695],\n",
       "       [-0.8860903 ,  1.82013202,  0.17479108, -0.65067514,  0.36893838],\n",
       "       [ 2.83827726, -0.94901018, -1.19293027, -0.49187607,  0.33751685],\n",
       "       [ 0.25822207, -0.50813324,  1.52867664, -0.12112986, -0.67526804],\n",
       "       [ 0.85749192, -1.00729908, -1.04541308, -1.19503429,  2.09885751]])"
      ]
     },
     "execution_count": 15,
     "metadata": {},
     "output_type": "execute_result"
    }
   ],
   "source": [
    "W1"
   ]
  },
  {
   "cell_type": "code",
   "execution_count": 16,
   "metadata": {
    "collapsed": false
   },
   "outputs": [
    {
     "data": {
      "text/plain": [
       "(4L,)"
      ]
     },
     "execution_count": 16,
     "metadata": {},
     "output_type": "execute_result"
    }
   ],
   "source": [
    "b2.shape"
   ]
  },
  {
   "cell_type": "code",
   "execution_count": 17,
   "metadata": {
    "collapsed": false
   },
   "outputs": [
    {
     "data": {
      "text/plain": [
       "(5L, 4L)"
      ]
     },
     "execution_count": 17,
     "metadata": {},
     "output_type": "execute_result"
    }
   ],
   "source": [
    "W2.shape"
   ]
  },
  {
   "cell_type": "code",
   "execution_count": null,
   "metadata": {
    "collapsed": true
   },
   "outputs": [],
   "source": []
  },
  {
   "cell_type": "code",
   "execution_count": 18,
   "metadata": {
    "collapsed": false
   },
   "outputs": [
    {
     "data": {
      "text/plain": [
       "(500L, 8L)"
      ]
     },
     "execution_count": 18,
     "metadata": {},
     "output_type": "execute_result"
    }
   ],
   "source": [
    "X.shape"
   ]
  },
  {
   "cell_type": "code",
   "execution_count": 19,
   "metadata": {
    "collapsed": false
   },
   "outputs": [
    {
     "data": {
      "text/plain": [
       "500L"
      ]
     },
     "execution_count": 19,
     "metadata": {},
     "output_type": "execute_result"
    }
   ],
   "source": [
    "X.shape[0]"
   ]
  },
  {
   "cell_type": "code",
   "execution_count": 20,
   "metadata": {
    "collapsed": false
   },
   "outputs": [
    {
     "data": {
      "text/plain": [
       "{0.0, 1.0, 2.0, 3.0}"
      ]
     },
     "execution_count": 20,
     "metadata": {},
     "output_type": "execute_result"
    }
   ],
   "source": [
    "set(Y)"
   ]
  },
  {
   "cell_type": "code",
   "execution_count": 21,
   "metadata": {
    "collapsed": false
   },
   "outputs": [
    {
     "data": {
      "text/plain": [
       "4"
      ]
     },
     "execution_count": 21,
     "metadata": {},
     "output_type": "execute_result"
    }
   ],
   "source": [
    "K"
   ]
  },
  {
   "cell_type": "code",
   "execution_count": null,
   "metadata": {
    "collapsed": true
   },
   "outputs": [],
   "source": []
  }
 ],
 "metadata": {
  "kernelspec": {
   "display_name": "Python 2",
   "language": "python",
   "name": "python2"
  },
  "language_info": {
   "codemirror_mode": {
    "name": "ipython",
    "version": 2
   },
   "file_extension": ".py",
   "mimetype": "text/x-python",
   "name": "python",
   "nbconvert_exporter": "python",
   "pygments_lexer": "ipython2",
   "version": "2.7.11"
  }
 },
 "nbformat": 4,
 "nbformat_minor": 0
}
