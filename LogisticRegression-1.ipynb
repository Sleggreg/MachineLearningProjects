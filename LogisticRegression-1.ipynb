{
 "cells": [
  {
   "cell_type": "code",
   "execution_count": 54,
   "metadata": {
    "collapsed": false
   },
   "outputs": [],
   "source": [
    "#Step 1: Import modules\n",
    "\n",
    "import numpy as np\n",
    "import pandas as pd\n",
    "from pandas import Series, DataFrame\n",
    "import matplotlib.pyplot as plt\n",
    "from sklearn.linear_model import LogisticRegression\n",
    "\n",
    "%matplotlib inline"
   ]
  },
  {
   "cell_type": "code",
   "execution_count": 2,
   "metadata": {
    "collapsed": false
   },
   "outputs": [
    {
     "data": {
      "text/html": [
       "<div>\n",
       "<table border=\"1\" class=\"dataframe\">\n",
       "  <thead>\n",
       "    <tr style=\"text-align: right;\">\n",
       "      <th></th>\n",
       "      <th>exam score 1</th>\n",
       "      <th>exam score 2</th>\n",
       "      <th>result</th>\n",
       "    </tr>\n",
       "  </thead>\n",
       "  <tbody>\n",
       "    <tr>\n",
       "      <th>0</th>\n",
       "      <td>34.623660</td>\n",
       "      <td>78.024693</td>\n",
       "      <td>0</td>\n",
       "    </tr>\n",
       "    <tr>\n",
       "      <th>1</th>\n",
       "      <td>30.286711</td>\n",
       "      <td>43.894998</td>\n",
       "      <td>0</td>\n",
       "    </tr>\n",
       "    <tr>\n",
       "      <th>2</th>\n",
       "      <td>35.847409</td>\n",
       "      <td>72.902198</td>\n",
       "      <td>0</td>\n",
       "    </tr>\n",
       "    <tr>\n",
       "      <th>3</th>\n",
       "      <td>60.182599</td>\n",
       "      <td>86.308552</td>\n",
       "      <td>1</td>\n",
       "    </tr>\n",
       "    <tr>\n",
       "      <th>4</th>\n",
       "      <td>79.032736</td>\n",
       "      <td>75.344376</td>\n",
       "      <td>1</td>\n",
       "    </tr>\n",
       "  </tbody>\n",
       "</table>\n",
       "</div>"
      ],
      "text/plain": [
       "   exam score 1  exam score 2  result\n",
       "0     34.623660     78.024693       0\n",
       "1     30.286711     43.894998       0\n",
       "2     35.847409     72.902198       0\n",
       "3     60.182599     86.308552       1\n",
       "4     79.032736     75.344376       1"
      ]
     },
     "execution_count": 2,
     "metadata": {},
     "output_type": "execute_result"
    }
   ],
   "source": [
    "# Step 2: Import database\n",
    "dataset = pd.read_csv('ex2data1.txt', header = None, names = ['exam score 1', 'exam score 2', 'result'])\n",
    "dataset.head()"
   ]
  },
  {
   "cell_type": "code",
   "execution_count": 3,
   "metadata": {
    "collapsed": false
   },
   "outputs": [],
   "source": [
    "x = dataset['exam score 1']\n",
    "y = dataset['exam score 2']\n",
    "pos = dataset['result'] == 1\n",
    "neg = dataset['result'] == 0\n"
   ]
  },
  {
   "cell_type": "code",
   "execution_count": 55,
   "metadata": {
    "collapsed": false
   },
   "outputs": [
    {
     "data": {
      "text/plain": [
       "<matplotlib.legend.Legend at 0x1d9a99b0>"
      ]
     },
     "execution_count": 55,
     "metadata": {},
     "output_type": "execute_result"
    },
    {
     "data": {
      "image/png": "[encoded data removed]",
      "text/plain": [
       "<matplotlib.figure.Figure at 0x1d9a9ba8>"
      ]
     },
     "metadata": {},
     "output_type": "display_data"
    }
   ],
   "source": [
    "# Step 3: Visualize Data\n",
    "a = plt.scatter(dataset[pos]['exam score 1'],dataset[pos]['exam score 2'], marker = '+', c = 'y', linewidth = 2, s=60, label='Admitted')\n",
    "b = plt.scatter(dataset[neg]['exam score 1'],dataset[neg]['exam score 2'], c = 'b', linewidth = 1, s=30, label = 'Not Admitted')\n",
    "plt.xlabel('Exam Score 1')\n",
    "plt.ylabel('Exam Score 2')\n",
    "plt.legend()"
   ]
  },
  {
   "cell_type": "code",
   "execution_count": 5,
   "metadata": {
    "collapsed": false
   },
   "outputs": [
    {
     "data": {
      "text/html": [
       "<div>\n",
       "<table border=\"1\" class=\"dataframe\">\n",
       "  <thead>\n",
       "    <tr style=\"text-align: right;\">\n",
       "      <th></th>\n",
       "      <th>exam score 1</th>\n",
       "      <th>exam score 2</th>\n",
       "      <th>result</th>\n",
       "    </tr>\n",
       "  </thead>\n",
       "  <tbody>\n",
       "    <tr>\n",
       "      <th>3</th>\n",
       "      <td>60.182599</td>\n",
       "      <td>86.308552</td>\n",
       "      <td>1</td>\n",
       "    </tr>\n",
       "    <tr>\n",
       "      <th>4</th>\n",
       "      <td>79.032736</td>\n",
       "      <td>75.344376</td>\n",
       "      <td>1</td>\n",
       "    </tr>\n",
       "    <tr>\n",
       "      <th>6</th>\n",
       "      <td>61.106665</td>\n",
       "      <td>96.511426</td>\n",
       "      <td>1</td>\n",
       "    </tr>\n",
       "    <tr>\n",
       "      <th>7</th>\n",
       "      <td>75.024746</td>\n",
       "      <td>46.554014</td>\n",
       "      <td>1</td>\n",
       "    </tr>\n",
       "    <tr>\n",
       "      <th>8</th>\n",
       "      <td>76.098787</td>\n",
       "      <td>87.420570</td>\n",
       "      <td>1</td>\n",
       "    </tr>\n",
       "  </tbody>\n",
       "</table>\n",
       "</div>"
      ],
      "text/plain": [
       "   exam score 1  exam score 2  result\n",
       "3     60.182599     86.308552       1\n",
       "4     79.032736     75.344376       1\n",
       "6     61.106665     96.511426       1\n",
       "7     75.024746     46.554014       1\n",
       "8     76.098787     87.420570       1"
      ]
     },
     "execution_count": 5,
     "metadata": {},
     "output_type": "execute_result"
    }
   ],
   "source": [
    "dataset[pos].head()"
   ]
  },
  {
   "cell_type": "code",
   "execution_count": 6,
   "metadata": {
    "collapsed": false
   },
   "outputs": [],
   "source": [
    "# Step 4: manipulate data for use. \n",
    "X = dataset.drop(['result'], axis=1)\n",
    "Y = dataset['result']\n",
    "\n",
    "X = X.values # 100 x 2 array\n",
    "Y = Y.values # 1 x 100 array"
   ]
  },
  {
   "cell_type": "code",
   "execution_count": 42,
   "metadata": {
    "collapsed": false
   },
   "outputs": [
    {
     "data": {
      "text/plain": [
       "0.87"
      ]
     },
     "execution_count": 42,
     "metadata": {},
     "output_type": "execute_result"
    }
   ],
   "source": [
    "# Step 5: Fit with Scikit-learn Logistic Regression\n",
    "regr = LogisticRegression()\n",
    "regr.fit(X,Y) #magic\n",
    "regr.score(X,Y)"
   ]
  },
  {
   "cell_type": "code",
   "execution_count": 69,
   "metadata": {
    "collapsed": false
   },
   "outputs": [
    {
     "name": "stdout",
     "output_type": "stream",
     "text": [
      "[[ 0.03844482  0.03101855]] [-3.89977794]\n"
     ]
    }
   ],
   "source": [
    "print regr.coef_, regr.intercept_"
   ]
  },
  {
   "cell_type": "code",
   "execution_count": 31,
   "metadata": {
    "collapsed": false
   },
   "outputs": [
    {
     "data": {
      "text/plain": [
       "<matplotlib.contour.QuadContourSet at 0x1d260e80>"
      ]
     },
     "execution_count": 31,
     "metadata": {},
     "output_type": "execute_result"
    },
    {
     "data": {
      "image/png": "[encoded data removed]",
      "text/plain": [
       "<matplotlib.figure.Figure at 0xba9ab00>"
      ]
     },
     "metadata": {},
     "output_type": "display_data"
    }
   ],
   "source": [
    "# Step 6: Visualize with 'fit' line\n",
    "a = plt.scatter(dataset[pos]['exam score 1'],dataset[pos]['exam score 2'], marker = '+', c = 'y', linewidth = 2, s=60, label='Admitted')\n",
    "b = plt.scatter(dataset[neg]['exam score 1'],dataset[neg]['exam score 2'], c = 'b', linewidth = 1, s=30, label = 'Not Admitted')\n",
    "plt.xlabel('Exam Score 1')\n",
    "plt.ylabel('Exam Score 2')\n",
    "plt.legend()\n",
    "\n",
    "\n",
    "#Try http://scikit-learn.org/stable/auto_examples/linear_model/plot_iris_logistic.html#\n",
    "# Plot the decision boundary. For that, we will assign a color to each\n",
    "# point in the mesh [x_min, m_max]x[y_min, y_max].\n",
    "x_min, x_max = X[:, 0].min() - .5, X[:, 0].max() + .5\n",
    "y_min, y_max = X[:, 1].min() - .5, X[:, 1].max() + .5\n",
    "xx, yy = np.meshgrid(np.arange(x_min, x_max, h), np.arange(y_min, y_max, h))\n",
    "Z = regr.predict(np.c_[xx.ravel(), yy.ravel()])\n",
    "\n",
    "# Put the result into a color plot\n",
    "Z = Z.reshape(xx.shape)\n",
    "plt.figure(1, figsize=(4, 3))\n",
    "#plt.pcolormesh(xx, yy, Z, cmap=plt.cm.Paired)\n",
    "plt.contour(xx,yy,Z, linewidths=1, colors = 'b')"
   ]
  },
  {
   "cell_type": "code",
   "execution_count": 14,
   "metadata": {
    "collapsed": false
   },
   "outputs": [
    {
     "data": {
      "text/plain": [
       "array([[  29.55882245,   29.57882245,   29.59882245, ...,  100.27882245,\n",
       "         100.29882245,  100.31882245],\n",
       "       [  29.55882245,   29.57882245,   29.59882245, ...,  100.27882245,\n",
       "         100.29882245,  100.31882245],\n",
       "       [  29.55882245,   29.57882245,   29.59882245, ...,  100.27882245,\n",
       "         100.29882245,  100.31882245],\n",
       "       ..., \n",
       "       [  29.55882245,   29.57882245,   29.59882245, ...,  100.27882245,\n",
       "         100.29882245,  100.31882245],\n",
       "       [  29.55882245,   29.57882245,   29.59882245, ...,  100.27882245,\n",
       "         100.29882245,  100.31882245],\n",
       "       [  29.55882245,   29.57882245,   29.59882245, ...,  100.27882245,\n",
       "         100.29882245,  100.31882245]])"
      ]
     },
     "execution_count": 14,
     "metadata": {},
     "output_type": "execute_result"
    }
   ],
   "source": [
    "x_min, x_max = X[:, 0].min() - .5, X[:, 0].max() + .5\n",
    "y_min, y_max = X[:, 1].min() - .5, X[:, 1].max() + .5\n",
    "h = .02\n",
    "xx, yy = np.meshgrid(np.arange(x_min, x_max, h), np.arange(y_min, y_max, h))\n",
    "xx"
   ]
  },
  {
   "cell_type": "code",
   "execution_count": 21,
   "metadata": {
    "collapsed": false
   },
   "outputs": [
    {
     "name": "stdout",
     "output_type": "stream",
     "text": [
      "[[1 2 3]\n",
      " [1 2 3]\n",
      " [1 2 3]]\n",
      "[[10 10 10]\n",
      " [20 20 20]\n",
      " [30 30 30]]\n",
      "[[11 12 13]\n",
      " [21 22 23]\n",
      " [31 32 33]]\n"
     ]
    }
   ],
   "source": [
    "#meshgrid example\n",
    "array1 = np.array([1,2,3])\n",
    "array2 = np.array([10, 20, 30])\n",
    "arr1, arr2 = np.meshgrid(array1, array2)\n",
    "arr3 = arr1 + arr2\n",
    "print arr1\n",
    "print arr2\n",
    "print arr3\n"
   ]
  },
  {
   "cell_type": "code",
   "execution_count": 23,
   "metadata": {
    "collapsed": false
   },
   "outputs": [
    {
     "data": {
      "text/plain": [
       "array([  1.        ,   1.28571429,   1.57142857,   1.85714286,\n",
       "         2.14285714,   2.42857143,   2.71428571,   3.        ,\n",
       "         3.28571429,   3.57142857,   3.85714286,   4.14285714,\n",
       "         4.42857143,   4.71428571,   5.        ,   5.28571429,\n",
       "         5.57142857,   5.85714286,   6.14285714,   6.42857143,\n",
       "         6.71428571,   7.        ,   7.28571429,   7.57142857,\n",
       "         7.85714286,   8.14285714,   8.42857143,   8.71428571,\n",
       "         9.        ,   9.28571429,   9.57142857,   9.85714286,\n",
       "        10.14285714,  10.42857143,  10.71428571,  11.        ,\n",
       "        11.28571429,  11.57142857,  11.85714286,  12.14285714,\n",
       "        12.42857143,  12.71428571,  13.        ,  13.28571429,\n",
       "        13.57142857,  13.85714286,  14.14285714,  14.42857143,\n",
       "        14.71428571,  15.        ])"
      ]
     },
     "execution_count": 23,
     "metadata": {},
     "output_type": "execute_result"
    }
   ],
   "source": [
    "gg = np.linspace(1,15)\n",
    "gg"
   ]
  },
  {
   "cell_type": "code",
   "execution_count": 26,
   "metadata": {
    "collapsed": false
   },
   "outputs": [
    {
     "data": {
      "text/plain": [
       "array([[1, 2, 3, 0, 0, 4, 5, 6]])"
      ]
     },
     "execution_count": 26,
     "metadata": {},
     "output_type": "execute_result"
    }
   ],
   "source": [
    "np.c_[np.array([[1,2,3]]), 0, 0, np.array([[4,5,6]])]"
   ]
  },
  {
   "cell_type": "code",
   "execution_count": 53,
   "metadata": {
    "collapsed": false
   },
   "outputs": [
    {
     "data": {
      "text/plain": [
       "[<matplotlib.lines.Line2D at 0xbf87fd0>]"
      ]
     },
     "execution_count": 53,
     "metadata": {},
     "output_type": "execute_result"
    },
    {
     "data": {
      "image/png": "[encoded data removed]",
      "text/plain": [
       "<matplotlib.figure.Figure at 0x1dc92588>"
      ]
     },
     "metadata": {},
     "output_type": "display_data"
    }
   ],
   "source": [
    "# get the separating hyperplane\n",
    "a = plt.scatter(dataset[pos]['exam score 1'],dataset[pos]['exam score 2'], marker = '+', c = 'y', linewidth = 2, s=60, label='Admitted')\n",
    "b = plt.scatter(dataset[neg]['exam score 1'],dataset[neg]['exam score 2'], c = 'b', linewidth = 1, s=30, label = 'Not Admitted')\n",
    "plt.xlabel('Exam Score 1')\n",
    "plt.ylabel('Exam Score 2')\n",
    "plt.legend()\n",
    "plt.xlim(25,105)\n",
    "plt.ylim(20,110)\n",
    "\n",
    "\n",
    "\n",
    "w = regr.coef_[0]\n",
    "a = -w[0] / w[1]\n",
    "xx = np.linspace(30, 100)\n",
    "yy = a * xx - (regr.intercept_[0]) / w[1]\n",
    "plt.plot(xx, yy)"
   ]
  },
  {
   "cell_type": "code",
   "execution_count": 52,
   "metadata": {
    "collapsed": false
   },
   "outputs": [
    {
     "name": "stdout",
     "output_type": "stream",
     "text": [
      "[[ 0.03844482  0.03101855]]\n",
      "[ 0.03844482  0.03101855]\n",
      "0.0384448155549\n",
      "0.0310185455629\n"
     ]
    }
   ],
   "source": [
    "# How well did it do?\n",
    "w = regr.coef_[0]\n",
    "a = -w[0] #/ w[1]\n",
    "print regr.coef_\n",
    "print w\n",
    "print w[0]\n",
    "print w[1]\n"
   ]
  },
  {
   "cell_type": "code",
   "execution_count": null,
   "metadata": {
    "collapsed": true
   },
   "outputs": [],
   "source": []
  }
 ],
 "metadata": {
  "kernelspec": {
   "display_name": "Python 2",
   "language": "python",
   "name": "python2"
  },
  "language_info": {
   "codemirror_mode": {
    "name": "ipython",
    "version": 2
   },
   "file_extension": ".py",
   "mimetype": "text/x-python",
   "name": "python",
   "nbconvert_exporter": "python",
   "pygments_lexer": "ipython2",
   "version": "2.7.11"
  }
 },
 "nbformat": 4,
 "nbformat_minor": 0
}
