{
 "cells": [
  {
   "cell_type": "code",
   "execution_count": 1,
   "metadata": {
    "collapsed": true
   },
   "outputs": [],
   "source": [
    "import numpy as np"
   ]
  },
  {
   "cell_type": "code",
   "execution_count": 2,
   "metadata": {
    "collapsed": true
   },
   "outputs": [],
   "source": [
    "X = np.array([[1,2], [3,4], [5,6], [7,8]])"
   ]
  },
  {
   "cell_type": "code",
   "execution_count": 3,
   "metadata": {
    "collapsed": false
   },
   "outputs": [
    {
     "name": "stdout",
     "output_type": "stream",
     "text": [
      "[[1 2]\n",
      " [3 4]\n",
      " [5 6]\n",
      " [7 8]]\n",
      "(4L, 2L)\n"
     ]
    }
   ],
   "source": [
    "# X = NxD matrix\n",
    "\n",
    "# N = 4\n",
    "# D = 2 \n",
    "\n",
    "print X\n",
    "print X.shape"
   ]
  },
  {
   "cell_type": "code",
   "execution_count": 4,
   "metadata": {
    "collapsed": false
   },
   "outputs": [
    {
     "name": "stdout",
     "output_type": "stream",
     "text": [
      "[[ 0.30728805  0.95180017  0.50719781]\n",
      " [ 0.43705258  0.18658956  0.06849195]]\n",
      "(2L, 3L)\n"
     ]
    }
   ],
   "source": [
    "#W1 = DxM matrix\n",
    "#D = 2\n",
    "#M = 3\n",
    "\n",
    "#W1 = np.array([[4,8,12], [3,6,9]])\n",
    "W1 = np.random.rand(2,3)\n",
    "print W1\n",
    "print W1.shape"
   ]
  },
  {
   "cell_type": "code",
   "execution_count": 5,
   "metadata": {
    "collapsed": false
   },
   "outputs": [
    {
     "name": "stdout",
     "output_type": "stream",
     "text": [
      "[2 4 6]\n",
      "(3L,)\n"
     ]
    }
   ],
   "source": [
    "#b1 = Mx1 matrix\n",
    "#M = 3\n",
    "\n",
    "\n",
    "b1 = np.array([2,4,6])\n",
    "print b1\n",
    "print b1.shape"
   ]
  },
  {
   "cell_type": "code",
   "execution_count": 6,
   "metadata": {
    "collapsed": false
   },
   "outputs": [
    {
     "data": {
      "text/plain": [
       "array([[ 1.1813932 ,  1.3249793 ,  0.64418171],\n",
       "       [ 2.67007444,  3.60175877,  1.79556122],\n",
       "       [ 4.15875568,  5.87853825,  2.94694074],\n",
       "       [ 5.64743692,  8.15531772,  4.09832026]])"
      ]
     },
     "execution_count": 6,
     "metadata": {},
     "output_type": "execute_result"
    }
   ],
   "source": [
    "test = X.dot(W1)\n",
    "test"
   ]
  },
  {
   "cell_type": "code",
   "execution_count": 7,
   "metadata": {
    "collapsed": false
   },
   "outputs": [
    {
     "data": {
      "text/plain": [
       "array([[  3.1813932 ,   5.3249793 ,   6.64418171],\n",
       "       [  4.67007444,   7.60175877,   7.79556122],\n",
       "       [  6.15875568,   9.87853825,   8.94694074],\n",
       "       [  7.64743692,  12.15531772,  10.09832026]])"
      ]
     },
     "execution_count": 7,
     "metadata": {},
     "output_type": "execute_result"
    }
   ],
   "source": [
    "test + b1"
   ]
  },
  {
   "cell_type": "code",
   "execution_count": null,
   "metadata": {
    "collapsed": true
   },
   "outputs": [],
   "source": []
  },
  {
   "cell_type": "code",
   "execution_count": 8,
   "metadata": {
    "collapsed": false
   },
   "outputs": [
    {
     "name": "stdout",
     "output_type": "stream",
     "text": [
      "[[ 0.96012803  0.99515514  0.99870012]\n",
      " [ 0.99071544  0.99950068  0.99958861]\n",
      " [ 0.99788958  0.99994874  0.99986988]\n",
      " [ 0.99952296  0.99999474  0.99995885]]\n",
      "(4L, 3L)\n"
     ]
    }
   ],
   "source": [
    "#Z will be a NxM matrix\n",
    "\n",
    "#N = 4\n",
    "#M = 3\n",
    "\n",
    "Z = 1 / (1 + np.exp(-X.dot(W1) - b1))\n",
    "print Z\n",
    "print Z.shape"
   ]
  },
  {
   "cell_type": "code",
   "execution_count": null,
   "metadata": {
    "collapsed": true
   },
   "outputs": [],
   "source": [
    "W2 = np.random.rand(M,K)"
   ]
  }
 ],
 "metadata": {
  "kernelspec": {
   "display_name": "Python 2",
   "language": "python",
   "name": "python2"
  },
  "language_info": {
   "codemirror_mode": {
    "name": "ipython",
    "version": 2
   },
   "file_extension": ".py",
   "mimetype": "text/x-python",
   "name": "python",
   "nbconvert_exporter": "python",
   "pygments_lexer": "ipython2",
   "version": "2.7.11"
  }
 },
 "nbformat": 4,
 "nbformat_minor": 0
}
