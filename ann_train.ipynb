{
 "cells": [
  {
   "cell_type": "markdown",
   "metadata": {},
   "source": [
    "Using a NN to train. One hidden layer\n",
    "\n",
    "https://github.com/lazyprogrammer/machine_learning_examples/blob/master/ann_logistic_extra/ann_train.py"
   ]
  },
  {
   "cell_type": "code",
   "execution_count": 1,
   "metadata": {
    "collapsed": false
   },
   "outputs": [
    {
     "name": "stdout",
     "output_type": "stream",
     "text": [
      "[[ 1.          0.          0.65750995  0.          3.          0.        ]\n",
      " [ 1.          1.          0.56857123  0.          2.          1.        ]\n",
      " [ 1.          0.          0.042246    1.          1.          0.        ]\n",
      " ..., \n",
      " [ 0.          0.          0.1728534   1.          3.          0.        ]\n",
      " [ 1.          0.          0.2099644   0.          3.          0.        ]\n",
      " [ 0.          0.          2.61688195  1.          3.          0.        ]]\n",
      "(500L, 5L)\n",
      "(500L,)\n",
      "[[ 1.         -1.89931526 -1.37410378 ...,  0.          0.          1.        ]\n",
      " [ 1.         -0.89931526 -1.46304249 ...,  0.          1.          0.        ]\n",
      " [ 1.         -1.89931526 -1.98936773 ...,  1.          0.          0.        ]\n",
      " ..., \n",
      " [ 0.         -1.89931526 -1.85876033 ...,  0.          0.          1.        ]\n",
      " [ 1.         -1.89931526 -1.82164933 ...,  0.          0.          1.        ]\n",
      " [ 0.         -1.89931526  0.58526823 ...,  0.          0.          1.        ]]\n"
     ]
    }
   ],
   "source": [
    "%run 'ECommerce.ipynb' #runs the notebook with the data prep work"
   ]
  },
  {
   "cell_type": "code",
   "execution_count": 3,
   "metadata": {
    "collapsed": true
   },
   "outputs": [],
   "source": [
    "import numpy as np\n",
    "import matplotlib.pyplot as plt\n",
    "%matplotlib inline\n",
    "\n",
    "from sklearn.utils import shuffle"
   ]
  },
  {
   "cell_type": "code",
   "execution_count": 22,
   "metadata": {
    "collapsed": true
   },
   "outputs": [],
   "source": [
    "#Need a function to get the indicator matrix from the targets. This takes the column of 0,1,2,3 and transforms into a one-hot \n",
    "#encoded matrix \n",
    "\n",
    "def y2indicator(y, K):\n",
    "    N = len(y) #for training this will be 400\n",
    "    ind = np.zeros((N,K)) #creates a 400x4 matrix\n",
    "    for i in xrange(N):\n",
    "        ind[i, y[i]] = 1\n",
    "    return ind"
   ]
  },
  {
   "cell_type": "code",
   "execution_count": 23,
   "metadata": {
    "collapsed": true
   },
   "outputs": [],
   "source": [
    "X, Y = get_data()\n",
    "X, Y = shuffle(X, Y)\n",
    "Y = Y.astype(np.int32) #No decimal places\n",
    "\n",
    "M = 5 #hidden layer units\n",
    "\n",
    "D = X.shape[1] #8\n",
    "K = len(set(Y)) #4"
   ]
  },
  {
   "cell_type": "code",
   "execution_count": 24,
   "metadata": {
    "collapsed": false
   },
   "outputs": [],
   "source": [
    "#Split the data between train and test sets\n",
    "\n",
    "Xtrain = X[:-100]\n",
    "Ytrain = Y[:-100]\n",
    "\n",
    "Ytrain_ind = y2indicator(Ytrain, K) #One hot encoded. 400x4 (NxK)\n",
    "\n",
    "Xtest = X[-100:]\n",
    "Ytest = Y[-100:]\n",
    "\n",
    "Ytest_ind = y2indicator(Ytest, K)"
   ]
  },
  {
   "cell_type": "code",
   "execution_count": 25,
   "metadata": {
    "collapsed": true
   },
   "outputs": [],
   "source": [
    "#Initialize some weights.\n",
    "\n",
    "W1 = np.random.rand(D, M)\n",
    "b1 = np.zeros(M)\n",
    "W2 = np.random.rand(M, K)\n",
    "b2 = np.zeros(K)"
   ]
  },
  {
   "cell_type": "code",
   "execution_count": 26,
   "metadata": {
    "collapsed": true
   },
   "outputs": [],
   "source": [
    "def softmax(a):\n",
    "    expA = np.exp(a)\n",
    "    return expA / expA.sum(axis=1, keepdims=True)\n",
    "\n",
    "def forward(X, W1, b1, W2, b2):\n",
    "    Z = np.tanh(X.dot(W1) + b1) #hidden layer calc\n",
    "    return softmax(Z.dot(W2) + b2), Z #return values of hidden units to be used with the derivative\n",
    "\n",
    "def predict(P_Y_given_X):\n",
    "    return np.argmax(P_Y_given_X, axis=1)\n",
    "\n",
    "# calculate the accuracy\n",
    "def classification_rate(Y, P):\n",
    "    return np.mean(Y == P)\n",
    "\n",
    "def cross_entropy(T, pY): #from definition\n",
    "    return -np.mean(T*np.log(pY))"
   ]
  },
  {
   "cell_type": "code",
   "execution_count": 31,
   "metadata": {
    "collapsed": false
   },
   "outputs": [
    {
     "name": "stdout",
     "output_type": "stream",
     "text": [
      "0 0.305991346299 0.343331842103\n",
      "1000 0.0224564568477 0.0358605068276\n",
      "2000 0.0172545125829 0.0260163440248\n",
      "3000 0.0157028453164 0.0261255840239\n",
      "4000 0.0148635551215 0.027448987055\n",
      "5000 0.0142436035343 0.028978772964\n",
      "6000 0.0128571941122 0.030453973748\n",
      "7000 0.0111252614978 0.0333615649756\n",
      "8000 0.00983646702608 0.0358811143188\n",
      "9000 0.00889909133049 0.0382616851183\n",
      "Final train classification_rate: 0.99\n",
      "Final test classification_rate: 0.96\n"
     ]
    },
    {
     "data": {
      "image/png": "[encoded data removed]",
      "text/plain": [
       "<matplotlib.figure.Figure at 0x4098588>"
      ]
     },
     "metadata": {},
     "output_type": "display_data"
    }
   ],
   "source": [
    "#Now to set up training loops\n",
    "train_costs = []\n",
    "test_costs = []\n",
    "learning_rate = 0.001\n",
    "\n",
    "for i in xrange(10000):\n",
    "    pYtrain, Ztrain = forward(Xtrain, W1, b1, W2, b2) #pYtrain is 400x4 (NxK), Ztrain is 400x5 (NxM)\n",
    "    pYtest, Ztest = forward(Xtest, W1, b1, W2, b2)\n",
    "    \n",
    "    #Now to calculate the cost function\n",
    "    ctrain = cross_entropy(Ytrain_ind, pYtrain)\n",
    "    ctest = cross_entropy(Ytest_ind, pYtest)\n",
    "    \n",
    "    #append to lists\n",
    "    train_costs.append(ctrain)\n",
    "    test_costs.append(ctest)\n",
    "    \n",
    "    #gradient descent\n",
    "    W2 -= learning_rate*Ztrain.T.dot(pYtrain - Ytrain_ind) #ah makes sense. \n",
    "    b2 -= learning_rate*(pYtrain - Ytrain_ind).sum(axis=0)\n",
    "    \n",
    "    #We can do a dz\n",
    "    dZ = (pYtrain - Ytrain_ind).dot(W2.T) * (1-Ztrain*Ztrain)\n",
    "    \n",
    "    W1 -= learning_rate*Xtrain.T.dot(dZ)\n",
    "    b1 -= learning_rate*dZ.sum(axis=0)\n",
    "    \n",
    "    if i % 1000 == 0:\n",
    "        print i, ctrain, ctest\n",
    "        \n",
    "print \"Final train classification_rate:\", classification_rate(Ytrain, predict(pYtrain))\n",
    "print \"Final test classification_rate:\", classification_rate(Ytest, predict(pYtest))\n",
    "\n",
    "legend1, = plt.plot(train_costs, label='train cost')\n",
    "legend2, = plt.plot(test_costs, label='test cost')\n",
    "\n",
    "plt.legend([legend1, legend2])\n",
    "plt.show()   "
   ]
  },
  {
   "cell_type": "code",
   "execution_count": null,
   "metadata": {
    "collapsed": true
   },
   "outputs": [],
   "source": []
  },
  {
   "cell_type": "code",
   "execution_count": null,
   "metadata": {
    "collapsed": true
   },
   "outputs": [],
   "source": []
  },
  {
   "cell_type": "code",
   "execution_count": null,
   "metadata": {
    "collapsed": true
   },
   "outputs": [],
   "source": []
  },
  {
   "cell_type": "code",
   "execution_count": null,
   "metadata": {
    "collapsed": true
   },
   "outputs": [],
   "source": []
  },
  {
   "cell_type": "code",
   "execution_count": 14,
   "metadata": {
    "collapsed": false
   },
   "outputs": [],
   "source": [
    "pYtrain, Ztrain = forward(Xtrain, W1, b1, W2, b2)"
   ]
  },
  {
   "cell_type": "code",
   "execution_count": 15,
   "metadata": {
    "collapsed": false
   },
   "outputs": [
    {
     "data": {
      "text/plain": [
       "array([[ 0.23069639,  0.38627038,  0.23750637,  0.14552686],\n",
       "       [ 0.22646867,  0.43116859,  0.21316878,  0.12919395],\n",
       "       [ 0.23677606,  0.36070102,  0.23222956,  0.17029337],\n",
       "       ..., \n",
       "       [ 0.2196887 ,  0.3371547 ,  0.23624554,  0.20691107],\n",
       "       [ 0.22178079,  0.43835562,  0.21944423,  0.12041936],\n",
       "       [ 0.22647543,  0.44068492,  0.21472163,  0.11811802]])"
      ]
     },
     "execution_count": 15,
     "metadata": {},
     "output_type": "execute_result"
    }
   ],
   "source": [
    "pYtrain"
   ]
  },
  {
   "cell_type": "code",
   "execution_count": 16,
   "metadata": {
    "collapsed": false
   },
   "outputs": [
    {
     "data": {
      "text/plain": [
       "(400L, 4L)"
      ]
     },
     "execution_count": 16,
     "metadata": {},
     "output_type": "execute_result"
    }
   ],
   "source": [
    "pYtrain.shape"
   ]
  },
  {
   "cell_type": "code",
   "execution_count": 18,
   "metadata": {
    "collapsed": false
   },
   "outputs": [
    {
     "data": {
      "text/plain": [
       "(400L, 5L)"
      ]
     },
     "execution_count": 18,
     "metadata": {},
     "output_type": "execute_result"
    }
   ],
   "source": [
    "Ztrain.shape"
   ]
  },
  {
   "cell_type": "code",
   "execution_count": 20,
   "metadata": {
    "collapsed": false
   },
   "outputs": [
    {
     "data": {
      "text/plain": [
       "(400L, 4L)"
      ]
     },
     "execution_count": 20,
     "metadata": {},
     "output_type": "execute_result"
    }
   ],
   "source": [
    "Ytrain_ind.shape"
   ]
  },
  {
   "cell_type": "code",
   "execution_count": null,
   "metadata": {
    "collapsed": true
   },
   "outputs": [],
   "source": []
  }
 ],
 "metadata": {
  "kernelspec": {
   "display_name": "Python 2",
   "language": "python",
   "name": "python2"
  },
  "language_info": {
   "codemirror_mode": {
    "name": "ipython",
    "version": 2
   },
   "file_extension": ".py",
   "mimetype": "text/x-python",
   "name": "python",
   "nbconvert_exporter": "python",
   "pygments_lexer": "ipython2",
   "version": "2.7.11"
  }
 },
 "nbformat": 4,
 "nbformat_minor": 0
}
