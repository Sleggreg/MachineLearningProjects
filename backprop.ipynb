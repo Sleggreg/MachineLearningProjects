{
 "cells": [
  {
   "cell_type": "markdown",
   "metadata": {},
   "source": [
    "Creating the backprop\n",
    "\n",
    "https://github.com/lazyprogrammer/machine_learning_examples/blob/master/ann_class/backprop.py"
   ]
  },
  {
   "cell_type": "code",
   "execution_count": 1,
   "metadata": {
    "collapsed": true
   },
   "outputs": [],
   "source": [
    "import numpy as np\n",
    "import matplotlib.pyplot as plt\n",
    "%matplotlib inline"
   ]
  },
  {
   "cell_type": "code",
   "execution_count": 2,
   "metadata": {
    "collapsed": true
   },
   "outputs": [],
   "source": [
    "def forward(X, W1, b1, W2, b2):\n",
    "    Z = 1 / (1 + np.exp(-X.dot(W1) - b1))\n",
    "    A = Z.dot(W2) + b2\n",
    "    expA = np.exp(A)\n",
    "    Y = expA / expA.sum(axis=1, keepdims=True)\n",
    "    return Y, Z\n",
    "\n",
    "def classification_rate(Y, P):\n",
    "    n_correct = 0\n",
    "    n_total = 0\n",
    "    for i in xrange(len(Y)):\n",
    "        n_total += 1\n",
    "        if Y[i] == P[i]:\n",
    "            n_correct += 1\n",
    "    return float(n_correct) / n_total"
   ]
  },
  {
   "cell_type": "code",
   "execution_count": null,
   "metadata": {
    "collapsed": true
   },
   "outputs": [],
   "source": [
    "def main():\n",
    "     # create the data\n",
    "    Nclass = 500\n",
    "    D = 2 # dimensionality of input (# of features)\n",
    "    M = 3 # hidden layer size\n",
    "    K = 3 # number of classes (outputs)\n",
    "    \n",
    "    X1 = np.random.randn(Nclass, D) + np.array([0, -2])\n",
    "    X2 = np.random.randn(Nclass, D) + np.array([2, 2])\n",
    "    X3 = np.random.randn(Nclass, D) + np.array([-2, 2])\n",
    "    X = np.vstack([X1, X2, X3]) \n",
    "    \n",
    "    Y = np.array([0]*Nclass + [1]*Nclass + [2]*Nclass) # A 1500X1 array - the classification(targets)\n",
    "    N = len(Y) # 1500\n",
    "    \n",
    "    # turn Y into an indicator matrix for training\n",
    "    T = np.zeros((N,K)) #Indicator variable\n",
    "    \n",
    "    # The for loop uses Y, a 1500X1 array and creates \"T\" a one-hot encoded 1500X3 matrix for the targets\n",
    "    for i in xrange(N):\n",
    "        T[i, Y[i]] = 1\n",
    "        \n",
    "    #Visualize Data\n",
    "    plt.scatter(X[:,0], X[:,1], c=Y, s=100, alpha=0.5)\n",
    "    plt.show()\n",
    "    \n",
    "    #Randomly initialize weights\n",
    "    W1 = np.random.rand(D,M)\n",
    "    b1 = np.random.rand(M)\n",
    "    W2 = np.random.rand(M,K)\n",
    "    b2 = np.random.rand(K) \n",
    "    \n",
    "    #Now for back prop\n",
    "    \n",
    "    learning_rate = 10e-7\n",
    "    costs = [] #Keep an array of the cost function so we can see the progression afterwards\n",
    "    \n",
    "    for epoch in xrange(100000): #how many times we are going to cycle\n",
    "        ouput, hidden = forward(X, W1, b1, W2, b2) #hidden = Z. Required to calculate the gradient\n",
    "        if epoch % 100 == 0: #every 100 epochs we are going to calculate the cost \n",
    "            c = cost(T, ouput) #(not yet written)\n",
    "            P = np.argmax(output, axis = 1)\n",
    "            \n",
    "    \n",
    "    #3:19"
   ]
  },
  {
   "cell_type": "code",
   "execution_count": null,
   "metadata": {
    "collapsed": true
   },
   "outputs": [],
   "source": []
  },
  {
   "cell_type": "code",
   "execution_count": 14,
   "metadata": {
    "collapsed": true
   },
   "outputs": [],
   "source": [
    "Nclass = 500\n",
    "D = 2 # dimensionality of input (# of features)\n",
    "M = 3 # hidden layer size\n",
    "K = 3 # number of classes (outputs)\n",
    "    \n",
    "X1 = np.random.randn(Nclass, D) + np.array([0, -2])\n",
    "X2 = np.random.randn(Nclass, D) + np.array([2, 2])\n",
    "X3 = np.random.randn(Nclass, D) + np.array([-2, 2])\n",
    "X = np.vstack([X1, X2, X3]) # a 1500x2 matrix\n",
    "    \n",
    "Y = np.array([0]*Nclass + [1]*Nclass + [2]*Nclass) # A 1500X1 array\n",
    "N = len(Y) # 1500\n",
    "T = np.zeros((N,K))"
   ]
  },
  {
   "cell_type": "code",
   "execution_count": 16,
   "metadata": {
    "collapsed": false
   },
   "outputs": [
    {
     "data": {
      "text/plain": [
       "(1500L, 3L)"
      ]
     },
     "execution_count": 16,
     "metadata": {},
     "output_type": "execute_result"
    }
   ],
   "source": [
    "T.shape"
   ]
  },
  {
   "cell_type": "code",
   "execution_count": 17,
   "metadata": {
    "collapsed": true
   },
   "outputs": [],
   "source": [
    "for i in xrange(N):\n",
    "        T[i, Y[i]] = 1\n"
   ]
  },
  {
   "cell_type": "code",
   "execution_count": 21,
   "metadata": {
    "collapsed": false
   },
   "outputs": [
    {
     "data": {
      "text/plain": [
       "array([[ 1.,  0.,  0.],\n",
       "       [ 1.,  0.,  0.],\n",
       "       [ 1.,  0.,  0.],\n",
       "       ..., \n",
       "       [ 0.,  0.,  1.],\n",
       "       [ 0.,  0.,  1.],\n",
       "       [ 0.,  0.,  1.]])"
      ]
     },
     "execution_count": 21,
     "metadata": {},
     "output_type": "execute_result"
    }
   ],
   "source": [
    "T"
   ]
  },
  {
   "cell_type": "code",
   "execution_count": null,
   "metadata": {
    "collapsed": true
   },
   "outputs": [],
   "source": []
  },
  {
   "cell_type": "code",
   "execution_count": null,
   "metadata": {
    "collapsed": true
   },
   "outputs": [],
   "source": []
  },
  {
   "cell_type": "code",
   "execution_count": null,
   "metadata": {
    "collapsed": true
   },
   "outputs": [],
   "source": []
  },
  {
   "cell_type": "code",
   "execution_count": null,
   "metadata": {
    "collapsed": true
   },
   "outputs": [],
   "source": []
  },
  {
   "cell_type": "code",
   "execution_count": 3,
   "metadata": {
    "collapsed": false
   },
   "outputs": [
    {
     "ename": "NameError",
     "evalue": "name 'main' is not defined",
     "output_type": "error",
     "traceback": [
      "\u001b[1;31m---------------------------------------------------------------------------\u001b[0m",
      "\u001b[1;31mNameError\u001b[0m                                 Traceback (most recent call last)",
      "\u001b[1;32m<ipython-input-3-2436fc2ab63a>\u001b[0m in \u001b[0;36m<module>\u001b[1;34m()\u001b[0m\n\u001b[0;32m      1\u001b[0m \u001b[1;32mif\u001b[0m \u001b[0m__name__\u001b[0m \u001b[1;33m==\u001b[0m \u001b[1;34m'__main__'\u001b[0m\u001b[1;33m:\u001b[0m\u001b[1;33m\u001b[0m\u001b[0m\n\u001b[1;32m----> 2\u001b[1;33m     \u001b[0mmain\u001b[0m\u001b[1;33m(\u001b[0m\u001b[1;33m)\u001b[0m\u001b[1;33m\u001b[0m\u001b[0m\n\u001b[0m",
      "\u001b[1;31mNameError\u001b[0m: name 'main' is not defined"
     ]
    }
   ],
   "source": [
    "# __main__ — Top-level script environment\n",
    "\n",
    "# This module represents the (otherwise anonymous) scope in which the interpreter’s main program executes — commands read \n",
    "# either from standard input, from a script file, or from an interactive prompt. It is this environment in which the idiomatic \n",
    "# “conditional script” stanza causes a script to run:\n",
    "\n",
    "if __name__ == '__main__':\n",
    "    main()"
   ]
  },
  {
   "cell_type": "code",
   "execution_count": null,
   "metadata": {
    "collapsed": true
   },
   "outputs": [],
   "source": []
  }
 ],
 "metadata": {
  "kernelspec": {
   "display_name": "Python 2",
   "language": "python",
   "name": "python2"
  },
  "language_info": {
   "codemirror_mode": {
    "name": "ipython",
    "version": 2
   },
   "file_extension": ".py",
   "mimetype": "text/x-python",
   "name": "python",
   "nbconvert_exporter": "python",
   "pygments_lexer": "ipython2",
   "version": "2.7.11"
  }
 },
 "nbformat": 4,
 "nbformat_minor": 0
}
