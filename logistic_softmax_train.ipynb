{
 "cells": [
  {
   "cell_type": "markdown",
   "metadata": {},
   "source": [
    "Using the Ecommerce Data. Training Logistic Regression with Softmax. (No hidden layer)\n",
    "\n",
    "https://github.com/lazyprogrammer/machine_learning_examples/blob/master/ann_logistic_extra/logistic_softmax_train.py"
   ]
  },
  {
   "cell_type": "code",
   "execution_count": 1,
   "metadata": {
    "collapsed": false
   },
   "outputs": [
    {
     "name": "stdout",
     "output_type": "stream",
     "text": [
      "[[ 1.          0.          0.65750995  0.          3.          0.        ]\n",
      " [ 1.          1.          0.56857123  0.          2.          1.        ]\n",
      " [ 1.          0.          0.042246    1.          1.          0.        ]\n",
      " ..., \n",
      " [ 0.          0.          0.1728534   1.          3.          0.        ]\n",
      " [ 1.          0.          0.2099644   0.          3.          0.        ]\n",
      " [ 0.          0.          2.61688195  1.          3.          0.        ]]\n",
      "(500L, 5L)\n",
      "(500L,)\n",
      "[[ 1.         -1.89931526 -1.37410378 ...,  0.          0.          1.        ]\n",
      " [ 1.         -0.89931526 -1.46304249 ...,  0.          1.          0.        ]\n",
      " [ 1.         -1.89931526 -1.98936773 ...,  1.          0.          0.        ]\n",
      " ..., \n",
      " [ 0.         -1.89931526 -1.85876033 ...,  0.          0.          1.        ]\n",
      " [ 1.         -1.89931526 -1.82164933 ...,  0.          0.          1.        ]\n",
      " [ 0.         -1.89931526  0.58526823 ...,  0.          0.          1.        ]]\n"
     ]
    }
   ],
   "source": [
    "%run 'ECommerce.ipynb' #runs the notebook with the data prep work"
   ]
  },
  {
   "cell_type": "code",
   "execution_count": 2,
   "metadata": {
    "collapsed": true
   },
   "outputs": [],
   "source": [
    "import numpy as np\n",
    "import matplotlib.pyplot as plt\n",
    "%matplotlib inline\n",
    "\n",
    "from sklearn.utils import shuffle"
   ]
  },
  {
   "cell_type": "code",
   "execution_count": 3,
   "metadata": {
    "collapsed": true
   },
   "outputs": [],
   "source": [
    "#Need a function to get the indicator matrix from the targets. This takes the column of 0,1,2,3 and transforms into a one-hot \n",
    "#encoded matrix \n",
    "\n",
    "def y2indicator(y, K):\n",
    "    N = len(y) #for training this will be 400\n",
    "    ind = np.zeros((N,K)) #creates a 400x4 matrix\n",
    "    for i in xrange(N):\n",
    "        ind[i, y[i]] = 1\n",
    "    return ind"
   ]
  },
  {
   "cell_type": "code",
   "execution_count": 4,
   "metadata": {
    "collapsed": true
   },
   "outputs": [],
   "source": [
    "X, Y = get_data()\n",
    "X, Y = shuffle(X, Y)\n",
    "Y = Y.astype(np.int32) #No decimal places\n",
    "\n",
    "D = X.shape[1] #8\n",
    "K = len(set(Y)) #4"
   ]
  },
  {
   "cell_type": "code",
   "execution_count": 5,
   "metadata": {
    "collapsed": true
   },
   "outputs": [],
   "source": [
    "#Split the data between train and test sets\n",
    "\n",
    "Xtrain = X[:-100]\n",
    "Ytrain = Y[:-100]\n",
    "\n",
    "Ytrain_ind = y2indicator(Ytrain, K)\n",
    "\n",
    "Xtest = X[-100:]\n",
    "Ytest = Y[-100:]\n",
    "\n",
    "Ytest_ind = y2indicator(Ytest, K)"
   ]
  },
  {
   "cell_type": "code",
   "execution_count": 6,
   "metadata": {
    "collapsed": true
   },
   "outputs": [],
   "source": [
    "#Initialize some weights.\n",
    "\n",
    "W = np.random.rand(D, K)\n",
    "b = np.zeros(K)"
   ]
  },
  {
   "cell_type": "code",
   "execution_count": 7,
   "metadata": {
    "collapsed": true
   },
   "outputs": [],
   "source": [
    "def softmax(a):\n",
    "    expA = np.exp(a)\n",
    "    return expA / expA.sum(axis=1, keepdims=True)\n",
    "\n",
    "def forward(X, W, b):\n",
    "    return softmax(X.dot(W) + b)\n",
    "\n",
    "def predict(P_Y_given_X):\n",
    "    return np.argmax(P_Y_given_X, axis=1)\n",
    "\n",
    "# calculate the accuracy\n",
    "def classification_rate(Y, P):\n",
    "    return np.mean(Y == P)\n",
    "\n",
    "def cross_entropy(T, pY): #from definition\n",
    "    return -np.mean(T*np.log(pY))"
   ]
  },
  {
   "cell_type": "code",
   "execution_count": 8,
   "metadata": {
    "collapsed": false
   },
   "outputs": [
    {
     "name": "stdout",
     "output_type": "stream",
     "text": [
      "0 0.357683030141 0.350949842372\n",
      "1000 0.0874963759633 0.100148238823\n",
      "2000 0.0833922755446 0.0954420447932\n",
      "3000 0.0818793775156 0.0937517042595\n",
      "4000 0.0811329529833 0.0929201696446\n",
      "5000 0.0807055660132 0.092435432172\n",
      "6000 0.0804371967196 0.0921216420937\n",
      "7000 0.0802577004347 0.0919038738726\n",
      "8000 0.0801319957712 0.0917451577838\n",
      "9000 0.0800408194024 0.0916252184321\n",
      "Final train classification_rate: 0.9075\n",
      "Final test classification_rate: 0.85\n"
     ]
    },
    {
     "data": {
      "image/png": "[encoded data removed]",
      "text/plain": [
       "<matplotlib.figure.Figure at 0xa21ecc0>"
      ]
     },
     "metadata": {},
     "output_type": "display_data"
    }
   ],
   "source": [
    "train_costs = []\n",
    "test_costs = []\n",
    "\n",
    "learning_rate = .001\n",
    "for i in xrange(10000):\n",
    "    pYtrain = forward (Xtrain, W, b) #Will create a 400x4 matrix\n",
    "    pYtest = forward(Xtest, W, b)\n",
    "    \n",
    "    ctrain = cross_entropy(Ytrain_ind, pYtrain)\n",
    "    ctest = cross_entropy(Ytest_ind, pYtest)\n",
    "    train_costs.append(ctrain)\n",
    "    test_costs.append(ctest)\n",
    "\n",
    "    # gradient descent\n",
    "    W -= learning_rate*Xtrain.T.dot(pYtrain - Ytrain_ind)\n",
    "    b -= learning_rate*(pYtrain - Ytrain_ind).sum(axis=0)\n",
    "    if i % 1000 == 0:\n",
    "        print i, ctrain, ctest\n",
    "        \n",
    "print \"Final train classification_rate:\", classification_rate(Ytrain, predict(pYtrain))\n",
    "print \"Final test classification_rate:\", classification_rate(Ytest, predict(pYtest))\n",
    "\n",
    "legend1, = plt.plot(train_costs, label='train cost')\n",
    "legend2, = plt.plot(test_costs, label='test cost')\n",
    "\n",
    "plt.legend([legend1, legend2])\n",
    "plt.show()"
   ]
  },
  {
   "cell_type": "code",
   "execution_count": 22,
   "metadata": {
    "collapsed": false
   },
   "outputs": [
    {
     "name": "stdout",
     "output_type": "stream",
     "text": [
      "[[  9.96491850e-01   3.46865236e-03   3.94958175e-05   1.92420992e-09]\n",
      " [  3.48850102e-03   7.18534262e-01   2.70035030e-01   7.94220701e-03]\n",
      " [  9.99145033e-01   8.49145148e-04   5.82135374e-06   2.10733887e-11]\n",
      " ..., \n",
      " [  9.90195545e-01   9.79659988e-03   7.85434352e-06   1.14300731e-09]\n",
      " [  1.24309469e-08   3.14090143e-01   3.67609020e-01   3.18300824e-01]\n",
      " [  9.95181040e-01   4.22583325e-03   5.93114661e-04   1.17911233e-08]]\n"
     ]
    }
   ],
   "source": [
    "print pYtrain"
   ]
  },
  {
   "cell_type": "code",
   "execution_count": null,
   "metadata": {
    "collapsed": false
   },
   "outputs": [],
   "source": []
  },
  {
   "cell_type": "code",
   "execution_count": 16,
   "metadata": {
    "collapsed": false
   },
   "outputs": [
    {
     "data": {
      "text/plain": [
       "array([0, 1, 0, 1, 2, 0, 0, 1, 1, 2, 0, 1, 1, 1, 0, 1, 2, 2, 1, 1, 2, 2, 1,\n",
       "       1, 1, 0, 0, 1, 0, 1, 0, 0, 0, 1, 2, 0, 0, 0, 0, 2, 1, 0, 0, 0, 0, 0,\n",
       "       0, 1, 0, 1, 1, 1, 0, 3, 0, 0, 0, 0, 0, 0, 0, 2, 0, 0, 2, 0, 2, 1, 2,\n",
       "       0, 1, 2, 0, 1, 2, 2, 0, 0, 0, 0, 0, 0, 0, 0, 2, 0, 0, 2, 0, 0, 0, 0,\n",
       "       0, 2, 0, 0, 0, 0, 1, 3, 3, 2, 2, 0, 1, 0, 2, 0, 1, 2, 1, 0, 0, 0, 3,\n",
       "       1, 3, 0, 0, 0, 0, 0, 0, 0, 1, 0, 0, 2, 1, 0, 0, 1, 0, 1, 0, 1, 0, 1,\n",
       "       0, 0, 1, 2, 1, 1, 1, 3, 1, 0, 1, 1, 1, 0, 2, 2, 1, 0, 0, 1, 0, 0, 1,\n",
       "       0, 1, 0, 0, 0, 0, 1, 0, 0, 1, 0, 0, 0, 0, 1, 0, 1, 2, 0, 0, 0, 0, 0,\n",
       "       2, 1, 1, 0, 0, 0, 1, 2, 1, 1, 0, 2, 0, 1, 0, 1, 2, 1, 1, 0, 1, 0, 1,\n",
       "       0, 1, 2, 0, 0, 0, 1, 1, 1, 0, 1, 0, 0, 0, 1, 2, 0, 1, 1, 0, 0, 0, 1,\n",
       "       0, 1, 0, 0, 0, 1, 1, 1, 1, 3, 1, 0, 1, 1, 0, 1, 1, 1, 1, 0, 0, 0, 0,\n",
       "       0, 1, 0, 0, 3, 0, 2, 2, 0, 0, 0, 0, 1, 3, 0, 0, 0, 3, 0, 0, 1, 0, 2,\n",
       "       0, 0, 0, 0, 0, 0, 0, 0, 1, 0, 0, 1, 3, 0, 1, 0, 0, 3, 0, 0, 0, 0, 3,\n",
       "       1, 1, 1, 2, 0, 0, 3, 0, 2, 0, 1, 0, 1, 2, 1, 1, 2, 1, 0, 2, 3, 0, 0,\n",
       "       1, 0, 2, 2, 1, 1, 1, 1, 0, 0, 0, 1, 2, 0, 1, 2, 0, 1, 1, 0, 1, 2, 0,\n",
       "       0, 1, 1, 0, 1, 1, 1, 3, 1, 1, 0, 0, 1, 1, 0, 1, 0, 1, 1, 0, 2, 2, 1,\n",
       "       1, 2, 0, 2, 1, 2, 2, 1, 0, 0, 1, 0, 3, 2, 0, 1, 1, 0, 1, 0, 2, 2, 1,\n",
       "       0, 0, 2, 0, 1, 0, 0, 2, 0], dtype=int64)"
      ]
     },
     "execution_count": 16,
     "metadata": {},
     "output_type": "execute_result"
    }
   ],
   "source": [
    "predict(pYtrain)"
   ]
  },
  {
   "cell_type": "code",
   "execution_count": 17,
   "metadata": {
    "collapsed": false
   },
   "outputs": [
    {
     "data": {
      "text/plain": [
       "(400L,)"
      ]
     },
     "execution_count": 17,
     "metadata": {},
     "output_type": "execute_result"
    }
   ],
   "source": [
    "predict(pYtrain).shape"
   ]
  },
  {
   "cell_type": "code",
   "execution_count": null,
   "metadata": {
    "collapsed": true
   },
   "outputs": [],
   "source": []
  },
  {
   "cell_type": "code",
   "execution_count": 9,
   "metadata": {
    "collapsed": false
   },
   "outputs": [
    {
     "name": "stdout",
     "output_type": "stream",
     "text": [
      "[[ 1.  0.  0.  0.]\n",
      " [ 0.  1.  0.  0.]\n",
      " [ 1.  0.  0.  0.]\n",
      " ..., \n",
      " [ 1.  0.  0.  0.]\n",
      " [ 0.  0.  1.  0.]\n",
      " [ 1.  0.  0.  0.]]\n"
     ]
    }
   ],
   "source": [
    "print Ytrain_ind"
   ]
  },
  {
   "cell_type": "code",
   "execution_count": 10,
   "metadata": {
    "collapsed": false
   },
   "outputs": [
    {
     "data": {
      "text/plain": [
       "array([0, 1, 0, 1, 3, 0, 0, 1, 0, 2, 0, 1, 1, 1, 0, 1, 2, 2, 2, 1, 2, 2, 1,\n",
       "       1, 1, 0, 0, 1, 0, 1, 0, 0, 0, 1, 2, 0, 0, 0, 0, 1, 1, 0, 0, 0, 0, 0,\n",
       "       0, 0, 0, 1, 1, 1, 1, 3, 0, 0, 0, 0, 0, 0, 0, 2, 0, 0, 2, 0, 2, 1, 2,\n",
       "       0, 1, 2, 0, 1, 2, 2, 0, 0, 0, 0, 0, 0, 0, 0, 2, 0, 0, 2, 0, 0, 0, 0,\n",
       "       0, 2, 0, 0, 0, 0, 1, 3, 0, 2, 2, 0, 1, 0, 2, 0, 1, 2, 2, 0, 0, 0, 3,\n",
       "       1, 2, 0, 0, 0, 0, 0, 0, 0, 1, 0, 0, 2, 1, 0, 0, 1, 0, 2, 0, 1, 0, 1,\n",
       "       0, 0, 1, 2, 1, 1, 2, 3, 1, 0, 1, 1, 1, 0, 3, 2, 0, 1, 0, 2, 0, 0, 0,\n",
       "       0, 1, 0, 0, 0, 0, 1, 0, 0, 1, 0, 0, 0, 0, 1, 0, 1, 3, 0, 0, 0, 0, 0,\n",
       "       2, 1, 1, 0, 0, 0, 2, 2, 1, 1, 0, 2, 0, 1, 0, 1, 2, 1, 1, 0, 1, 0, 2,\n",
       "       0, 1, 2, 0, 0, 0, 1, 1, 1, 0, 1, 0, 0, 2, 1, 2, 0, 0, 1, 0, 0, 0, 1,\n",
       "       0, 1, 0, 0, 0, 1, 0, 1, 1, 3, 1, 0, 1, 1, 0, 1, 1, 1, 1, 0, 0, 0, 0,\n",
       "       0, 0, 0, 0, 3, 0, 2, 2, 0, 0, 0, 0, 1, 3, 0, 0, 0, 3, 0, 0, 1, 0, 2,\n",
       "       0, 0, 0, 0, 0, 0, 0, 0, 1, 0, 0, 1, 3, 0, 1, 0, 0, 3, 0, 0, 0, 0, 3,\n",
       "       1, 1, 1, 1, 0, 0, 0, 0, 2, 0, 1, 0, 0, 2, 1, 0, 2, 1, 0, 2, 2, 0, 0,\n",
       "       1, 0, 2, 2, 1, 1, 0, 1, 0, 0, 1, 1, 2, 0, 1, 2, 0, 1, 1, 0, 1, 2, 0,\n",
       "       0, 1, 1, 0, 2, 1, 1, 3, 1, 1, 0, 0, 1, 1, 0, 1, 0, 0, 1, 0, 3, 3, 1,\n",
       "       1, 2, 0, 3, 1, 2, 2, 1, 0, 0, 1, 0, 3, 1, 0, 1, 1, 0, 1, 0, 2, 2, 1,\n",
       "       0, 0, 2, 0, 1, 1, 0, 2, 0])"
      ]
     },
     "execution_count": 10,
     "metadata": {},
     "output_type": "execute_result"
    }
   ],
   "source": [
    "Ytrain"
   ]
  },
  {
   "cell_type": "code",
   "execution_count": null,
   "metadata": {
    "collapsed": true
   },
   "outputs": [],
   "source": []
  },
  {
   "cell_type": "code",
   "execution_count": null,
   "metadata": {
    "collapsed": true
   },
   "outputs": [],
   "source": []
  },
  {
   "cell_type": "code",
   "execution_count": null,
   "metadata": {
    "collapsed": true
   },
   "outputs": [],
   "source": []
  },
  {
   "cell_type": "code",
   "execution_count": null,
   "metadata": {
    "collapsed": true
   },
   "outputs": [],
   "source": []
  },
  {
   "cell_type": "code",
   "execution_count": 11,
   "metadata": {
    "collapsed": false
   },
   "outputs": [
    {
     "data": {
      "text/plain": [
       "(500L, 8L)"
      ]
     },
     "execution_count": 11,
     "metadata": {},
     "output_type": "execute_result"
    }
   ],
   "source": [
    "X.shape"
   ]
  },
  {
   "cell_type": "code",
   "execution_count": 12,
   "metadata": {
    "collapsed": false
   },
   "outputs": [
    {
     "data": {
      "text/plain": [
       "{0, 1, 2, 3}"
      ]
     },
     "execution_count": 12,
     "metadata": {},
     "output_type": "execute_result"
    }
   ],
   "source": [
    "set(Y)"
   ]
  },
  {
   "cell_type": "code",
   "execution_count": 13,
   "metadata": {
    "collapsed": false
   },
   "outputs": [
    {
     "data": {
      "text/plain": [
       "4"
      ]
     },
     "execution_count": 13,
     "metadata": {},
     "output_type": "execute_result"
    }
   ],
   "source": [
    "K"
   ]
  },
  {
   "cell_type": "code",
   "execution_count": 14,
   "metadata": {
    "collapsed": false
   },
   "outputs": [
    {
     "data": {
      "text/plain": [
       "array([0, 1, 0, 1, 3, 0, 0, 1, 0, 2, 0, 1, 1, 1, 0, 1, 2, 2, 2, 1, 2, 2, 1,\n",
       "       1, 1, 0, 0, 1, 0, 1, 0, 0, 0, 1, 2, 0, 0, 0, 0, 1, 1, 0, 0, 0, 0, 0,\n",
       "       0, 0, 0, 1, 1, 1, 1, 3, 0, 0, 0, 0, 0, 0, 0, 2, 0, 0, 2, 0, 2, 1, 2,\n",
       "       0, 1, 2, 0, 1, 2, 2, 0, 0, 0, 0, 0, 0, 0, 0, 2, 0, 0, 2, 0, 0, 0, 0,\n",
       "       0, 2, 0, 0, 0, 0, 1, 3, 0, 2, 2, 0, 1, 0, 2, 0, 1, 2, 2, 0, 0, 0, 3,\n",
       "       1, 2, 0, 0, 0, 0, 0, 0, 0, 1, 0, 0, 2, 1, 0, 0, 1, 0, 2, 0, 1, 0, 1,\n",
       "       0, 0, 1, 2, 1, 1, 2, 3, 1, 0, 1, 1, 1, 0, 3, 2, 0, 1, 0, 2, 0, 0, 0,\n",
       "       0, 1, 0, 0, 0, 0, 1, 0, 0, 1, 0, 0, 0, 0, 1, 0, 1, 3, 0, 0, 0, 0, 0,\n",
       "       2, 1, 1, 0, 0, 0, 2, 2, 1, 1, 0, 2, 0, 1, 0, 1, 2, 1, 1, 0, 1, 0, 2,\n",
       "       0, 1, 2, 0, 0, 0, 1, 1, 1, 0, 1, 0, 0, 2, 1, 2, 0, 0, 1, 0, 0, 0, 1,\n",
       "       0, 1, 0, 0, 0, 1, 0, 1, 1, 3, 1, 0, 1, 1, 0, 1, 1, 1, 1, 0, 0, 0, 0,\n",
       "       0, 0, 0, 0, 3, 0, 2, 2, 0, 0, 0, 0, 1, 3, 0, 0, 0, 3, 0, 0, 1, 0, 2,\n",
       "       0, 0, 0, 0, 0, 0, 0, 0, 1, 0, 0, 1, 3, 0, 1, 0, 0, 3, 0, 0, 0, 0, 3,\n",
       "       1, 1, 1, 1, 0, 0, 0, 0, 2, 0, 1, 0, 0, 2, 1, 0, 2, 1, 0, 2, 2, 0, 0,\n",
       "       1, 0, 2, 2, 1, 1, 0, 1, 0, 0, 1, 1, 2, 0, 1, 2, 0, 1, 1, 0, 1, 2, 0,\n",
       "       0, 1, 1, 0, 2, 1, 1, 3, 1, 1, 0, 0, 1, 1, 0, 1, 0, 0, 1, 0, 3, 3, 1,\n",
       "       1, 2, 0, 3, 1, 2, 2, 1, 0, 0, 1, 0, 3, 1, 0, 1, 1, 0, 1, 0, 2, 2, 1,\n",
       "       0, 0, 2, 0, 1, 1, 0, 2, 0, 3, 2, 1, 0, 0, 1, 0, 1, 1, 2, 0, 0, 2, 0,\n",
       "       2, 1, 0, 1, 0, 0, 0, 2, 1, 0, 0, 2, 0, 0, 0, 1, 0, 2, 0, 0, 0, 0, 2,\n",
       "       0, 3, 0, 0, 1, 0, 0, 0, 3, 2, 0, 0, 0, 2, 0, 2, 0, 1, 1, 0, 3, 1, 0,\n",
       "       0, 1, 0, 3, 2, 1, 1, 1, 1, 1, 1, 0, 2, 0, 2, 1, 2, 0, 2, 0, 1, 0, 0,\n",
       "       2, 0, 1, 3, 0, 1, 1, 0, 2, 0, 1, 1, 0, 1, 1, 0, 0])"
      ]
     },
     "execution_count": 14,
     "metadata": {},
     "output_type": "execute_result"
    }
   ],
   "source": [
    "Y"
   ]
  },
  {
   "cell_type": "code",
   "execution_count": null,
   "metadata": {
    "collapsed": true
   },
   "outputs": [],
   "source": []
  }
 ],
 "metadata": {
  "kernelspec": {
   "display_name": "Python 2",
   "language": "python",
   "name": "python2"
  },
  "language_info": {
   "codemirror_mode": {
    "name": "ipython",
    "version": 2
   },
   "file_extension": ".py",
   "mimetype": "text/x-python",
   "name": "python",
   "nbconvert_exporter": "python",
   "pygments_lexer": "ipython2",
   "version": "2.7.11"
  }
 },
 "nbformat": 4,
 "nbformat_minor": 0
}
